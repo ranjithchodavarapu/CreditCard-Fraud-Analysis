{
 "cells": [
  {
   "cell_type": "code",
   "execution_count": 1,
   "metadata": {},
   "outputs": [],
   "source": [
    "import pandas as pd\n",
    "import numpy as np\n",
    "import sklearn\n",
    "import seaborn as sns\n",
    "import matplotlib.pyplot as plt\n",
    "from sklearn.linear_model import LogisticRegression\n",
    "from sklearn.ensemble import RandomForestClassifier\n",
    "from sklearn.pipeline import make_pipeline\n",
    "from sklearn.tree import DecisionTreeClassifier"
   ]
  },
  {
   "cell_type": "code",
   "execution_count": 2,
   "metadata": {},
   "outputs": [],
   "source": [
    "#0-not fraud trans\n",
    "#1- fraud trans"
   ]
  },
  {
   "cell_type": "code",
   "execution_count": 3,
   "metadata": {},
   "outputs": [],
   "source": [
    "data=pd.read_csv(\"creditcard.csv\")"
   ]
  },
  {
   "cell_type": "code",
   "execution_count": 4,
   "metadata": {},
   "outputs": [
    {
     "data": {
      "text/html": [
       "<div>\n",
       "<style scoped>\n",
       "    .dataframe tbody tr th:only-of-type {\n",
       "        vertical-align: middle;\n",
       "    }\n",
       "\n",
       "    .dataframe tbody tr th {\n",
       "        vertical-align: top;\n",
       "    }\n",
       "\n",
       "    .dataframe thead th {\n",
       "        text-align: right;\n",
       "    }\n",
       "</style>\n",
       "<table border=\"1\" class=\"dataframe\">\n",
       "  <thead>\n",
       "    <tr style=\"text-align: right;\">\n",
       "      <th></th>\n",
       "      <th>Time</th>\n",
       "      <th>V1</th>\n",
       "      <th>V2</th>\n",
       "      <th>V3</th>\n",
       "      <th>V4</th>\n",
       "      <th>V5</th>\n",
       "      <th>V6</th>\n",
       "      <th>V7</th>\n",
       "      <th>V8</th>\n",
       "      <th>V9</th>\n",
       "      <th>...</th>\n",
       "      <th>V21</th>\n",
       "      <th>V22</th>\n",
       "      <th>V23</th>\n",
       "      <th>V24</th>\n",
       "      <th>V25</th>\n",
       "      <th>V26</th>\n",
       "      <th>V27</th>\n",
       "      <th>V28</th>\n",
       "      <th>Amount</th>\n",
       "      <th>Class</th>\n",
       "    </tr>\n",
       "  </thead>\n",
       "  <tbody>\n",
       "    <tr>\n",
       "      <th>0</th>\n",
       "      <td>0.0</td>\n",
       "      <td>-1.359807</td>\n",
       "      <td>-0.072781</td>\n",
       "      <td>2.536347</td>\n",
       "      <td>1.378155</td>\n",
       "      <td>-0.338321</td>\n",
       "      <td>0.462388</td>\n",
       "      <td>0.239599</td>\n",
       "      <td>0.098698</td>\n",
       "      <td>0.363787</td>\n",
       "      <td>...</td>\n",
       "      <td>-0.018307</td>\n",
       "      <td>0.277838</td>\n",
       "      <td>-0.110474</td>\n",
       "      <td>0.066928</td>\n",
       "      <td>0.128539</td>\n",
       "      <td>-0.189115</td>\n",
       "      <td>0.133558</td>\n",
       "      <td>-0.021053</td>\n",
       "      <td>149.62</td>\n",
       "      <td>0</td>\n",
       "    </tr>\n",
       "    <tr>\n",
       "      <th>1</th>\n",
       "      <td>0.0</td>\n",
       "      <td>1.191857</td>\n",
       "      <td>0.266151</td>\n",
       "      <td>0.166480</td>\n",
       "      <td>0.448154</td>\n",
       "      <td>0.060018</td>\n",
       "      <td>-0.082361</td>\n",
       "      <td>-0.078803</td>\n",
       "      <td>0.085102</td>\n",
       "      <td>-0.255425</td>\n",
       "      <td>...</td>\n",
       "      <td>-0.225775</td>\n",
       "      <td>-0.638672</td>\n",
       "      <td>0.101288</td>\n",
       "      <td>-0.339846</td>\n",
       "      <td>0.167170</td>\n",
       "      <td>0.125895</td>\n",
       "      <td>-0.008983</td>\n",
       "      <td>0.014724</td>\n",
       "      <td>2.69</td>\n",
       "      <td>0</td>\n",
       "    </tr>\n",
       "    <tr>\n",
       "      <th>2</th>\n",
       "      <td>1.0</td>\n",
       "      <td>-1.358354</td>\n",
       "      <td>-1.340163</td>\n",
       "      <td>1.773209</td>\n",
       "      <td>0.379780</td>\n",
       "      <td>-0.503198</td>\n",
       "      <td>1.800499</td>\n",
       "      <td>0.791461</td>\n",
       "      <td>0.247676</td>\n",
       "      <td>-1.514654</td>\n",
       "      <td>...</td>\n",
       "      <td>0.247998</td>\n",
       "      <td>0.771679</td>\n",
       "      <td>0.909412</td>\n",
       "      <td>-0.689281</td>\n",
       "      <td>-0.327642</td>\n",
       "      <td>-0.139097</td>\n",
       "      <td>-0.055353</td>\n",
       "      <td>-0.059752</td>\n",
       "      <td>378.66</td>\n",
       "      <td>0</td>\n",
       "    </tr>\n",
       "    <tr>\n",
       "      <th>3</th>\n",
       "      <td>1.0</td>\n",
       "      <td>-0.966272</td>\n",
       "      <td>-0.185226</td>\n",
       "      <td>1.792993</td>\n",
       "      <td>-0.863291</td>\n",
       "      <td>-0.010309</td>\n",
       "      <td>1.247203</td>\n",
       "      <td>0.237609</td>\n",
       "      <td>0.377436</td>\n",
       "      <td>-1.387024</td>\n",
       "      <td>...</td>\n",
       "      <td>-0.108300</td>\n",
       "      <td>0.005274</td>\n",
       "      <td>-0.190321</td>\n",
       "      <td>-1.175575</td>\n",
       "      <td>0.647376</td>\n",
       "      <td>-0.221929</td>\n",
       "      <td>0.062723</td>\n",
       "      <td>0.061458</td>\n",
       "      <td>123.50</td>\n",
       "      <td>0</td>\n",
       "    </tr>\n",
       "    <tr>\n",
       "      <th>4</th>\n",
       "      <td>2.0</td>\n",
       "      <td>-1.158233</td>\n",
       "      <td>0.877737</td>\n",
       "      <td>1.548718</td>\n",
       "      <td>0.403034</td>\n",
       "      <td>-0.407193</td>\n",
       "      <td>0.095921</td>\n",
       "      <td>0.592941</td>\n",
       "      <td>-0.270533</td>\n",
       "      <td>0.817739</td>\n",
       "      <td>...</td>\n",
       "      <td>-0.009431</td>\n",
       "      <td>0.798278</td>\n",
       "      <td>-0.137458</td>\n",
       "      <td>0.141267</td>\n",
       "      <td>-0.206010</td>\n",
       "      <td>0.502292</td>\n",
       "      <td>0.219422</td>\n",
       "      <td>0.215153</td>\n",
       "      <td>69.99</td>\n",
       "      <td>0</td>\n",
       "    </tr>\n",
       "  </tbody>\n",
       "</table>\n",
       "<p>5 rows × 31 columns</p>\n",
       "</div>"
      ],
      "text/plain": [
       "   Time        V1        V2        V3        V4        V5        V6        V7  \\\n",
       "0   0.0 -1.359807 -0.072781  2.536347  1.378155 -0.338321  0.462388  0.239599   \n",
       "1   0.0  1.191857  0.266151  0.166480  0.448154  0.060018 -0.082361 -0.078803   \n",
       "2   1.0 -1.358354 -1.340163  1.773209  0.379780 -0.503198  1.800499  0.791461   \n",
       "3   1.0 -0.966272 -0.185226  1.792993 -0.863291 -0.010309  1.247203  0.237609   \n",
       "4   2.0 -1.158233  0.877737  1.548718  0.403034 -0.407193  0.095921  0.592941   \n",
       "\n",
       "         V8        V9  ...       V21       V22       V23       V24       V25  \\\n",
       "0  0.098698  0.363787  ... -0.018307  0.277838 -0.110474  0.066928  0.128539   \n",
       "1  0.085102 -0.255425  ... -0.225775 -0.638672  0.101288 -0.339846  0.167170   \n",
       "2  0.247676 -1.514654  ...  0.247998  0.771679  0.909412 -0.689281 -0.327642   \n",
       "3  0.377436 -1.387024  ... -0.108300  0.005274 -0.190321 -1.175575  0.647376   \n",
       "4 -0.270533  0.817739  ... -0.009431  0.798278 -0.137458  0.141267 -0.206010   \n",
       "\n",
       "        V26       V27       V28  Amount  Class  \n",
       "0 -0.189115  0.133558 -0.021053  149.62      0  \n",
       "1  0.125895 -0.008983  0.014724    2.69      0  \n",
       "2 -0.139097 -0.055353 -0.059752  378.66      0  \n",
       "3 -0.221929  0.062723  0.061458  123.50      0  \n",
       "4  0.502292  0.219422  0.215153   69.99      0  \n",
       "\n",
       "[5 rows x 31 columns]"
      ]
     },
     "execution_count": 4,
     "metadata": {},
     "output_type": "execute_result"
    }
   ],
   "source": [
    "data.head()"
   ]
  },
  {
   "cell_type": "code",
   "execution_count": 5,
   "metadata": {},
   "outputs": [
    {
     "data": {
      "text/plain": [
       "(284807, 31)"
      ]
     },
     "execution_count": 5,
     "metadata": {},
     "output_type": "execute_result"
    }
   ],
   "source": [
    "data.shape"
   ]
  },
  {
   "cell_type": "code",
   "execution_count": 6,
   "metadata": {},
   "outputs": [
    {
     "data": {
      "text/html": [
       "<div>\n",
       "<style scoped>\n",
       "    .dataframe tbody tr th:only-of-type {\n",
       "        vertical-align: middle;\n",
       "    }\n",
       "\n",
       "    .dataframe tbody tr th {\n",
       "        vertical-align: top;\n",
       "    }\n",
       "\n",
       "    .dataframe thead th {\n",
       "        text-align: right;\n",
       "    }\n",
       "</style>\n",
       "<table border=\"1\" class=\"dataframe\">\n",
       "  <thead>\n",
       "    <tr style=\"text-align: right;\">\n",
       "      <th></th>\n",
       "      <th>Time</th>\n",
       "      <th>Amount</th>\n",
       "      <th>Class</th>\n",
       "    </tr>\n",
       "  </thead>\n",
       "  <tbody>\n",
       "    <tr>\n",
       "      <th>count</th>\n",
       "      <td>284807.000000</td>\n",
       "      <td>284807.000000</td>\n",
       "      <td>284807.000000</td>\n",
       "    </tr>\n",
       "    <tr>\n",
       "      <th>mean</th>\n",
       "      <td>94813.859575</td>\n",
       "      <td>88.349619</td>\n",
       "      <td>0.001727</td>\n",
       "    </tr>\n",
       "    <tr>\n",
       "      <th>std</th>\n",
       "      <td>47488.145955</td>\n",
       "      <td>250.120109</td>\n",
       "      <td>0.041527</td>\n",
       "    </tr>\n",
       "    <tr>\n",
       "      <th>min</th>\n",
       "      <td>0.000000</td>\n",
       "      <td>0.000000</td>\n",
       "      <td>0.000000</td>\n",
       "    </tr>\n",
       "    <tr>\n",
       "      <th>25%</th>\n",
       "      <td>54201.500000</td>\n",
       "      <td>5.600000</td>\n",
       "      <td>0.000000</td>\n",
       "    </tr>\n",
       "    <tr>\n",
       "      <th>50%</th>\n",
       "      <td>84692.000000</td>\n",
       "      <td>22.000000</td>\n",
       "      <td>0.000000</td>\n",
       "    </tr>\n",
       "    <tr>\n",
       "      <th>75%</th>\n",
       "      <td>139320.500000</td>\n",
       "      <td>77.165000</td>\n",
       "      <td>0.000000</td>\n",
       "    </tr>\n",
       "    <tr>\n",
       "      <th>max</th>\n",
       "      <td>172792.000000</td>\n",
       "      <td>25691.160000</td>\n",
       "      <td>1.000000</td>\n",
       "    </tr>\n",
       "  </tbody>\n",
       "</table>\n",
       "</div>"
      ],
      "text/plain": [
       "                Time         Amount          Class\n",
       "count  284807.000000  284807.000000  284807.000000\n",
       "mean    94813.859575      88.349619       0.001727\n",
       "std     47488.145955     250.120109       0.041527\n",
       "min         0.000000       0.000000       0.000000\n",
       "25%     54201.500000       5.600000       0.000000\n",
       "50%     84692.000000      22.000000       0.000000\n",
       "75%    139320.500000      77.165000       0.000000\n",
       "max    172792.000000   25691.160000       1.000000"
      ]
     },
     "execution_count": 6,
     "metadata": {},
     "output_type": "execute_result"
    }
   ],
   "source": [
    "data[[\"Time\",\"Amount\",\"Class\"]].describe()"
   ]
  },
  {
   "cell_type": "code",
   "execution_count": 7,
   "metadata": {},
   "outputs": [
    {
     "name": "stdout",
     "output_type": "stream",
     "text": [
      "<class 'pandas.core.frame.DataFrame'>\n",
      "RangeIndex: 284807 entries, 0 to 284806\n",
      "Data columns (total 31 columns):\n",
      " #   Column  Non-Null Count   Dtype  \n",
      "---  ------  --------------   -----  \n",
      " 0   Time    284807 non-null  float64\n",
      " 1   V1      284807 non-null  float64\n",
      " 2   V2      284807 non-null  float64\n",
      " 3   V3      284807 non-null  float64\n",
      " 4   V4      284807 non-null  float64\n",
      " 5   V5      284807 non-null  float64\n",
      " 6   V6      284807 non-null  float64\n",
      " 7   V7      284807 non-null  float64\n",
      " 8   V8      284807 non-null  float64\n",
      " 9   V9      284807 non-null  float64\n",
      " 10  V10     284807 non-null  float64\n",
      " 11  V11     284807 non-null  float64\n",
      " 12  V12     284807 non-null  float64\n",
      " 13  V13     284807 non-null  float64\n",
      " 14  V14     284807 non-null  float64\n",
      " 15  V15     284807 non-null  float64\n",
      " 16  V16     284807 non-null  float64\n",
      " 17  V17     284807 non-null  float64\n",
      " 18  V18     284807 non-null  float64\n",
      " 19  V19     284807 non-null  float64\n",
      " 20  V20     284807 non-null  float64\n",
      " 21  V21     284807 non-null  float64\n",
      " 22  V22     284807 non-null  float64\n",
      " 23  V23     284807 non-null  float64\n",
      " 24  V24     284807 non-null  float64\n",
      " 25  V25     284807 non-null  float64\n",
      " 26  V26     284807 non-null  float64\n",
      " 27  V27     284807 non-null  float64\n",
      " 28  V28     284807 non-null  float64\n",
      " 29  Amount  284807 non-null  float64\n",
      " 30  Class   284807 non-null  int64  \n",
      "dtypes: float64(30), int64(1)\n",
      "memory usage: 67.4 MB\n"
     ]
    }
   ],
   "source": [
    "data.info()"
   ]
  },
  {
   "cell_type": "code",
   "execution_count": 8,
   "metadata": {},
   "outputs": [
    {
     "data": {
      "text/html": [
       "<div>\n",
       "<style scoped>\n",
       "    .dataframe tbody tr th:only-of-type {\n",
       "        vertical-align: middle;\n",
       "    }\n",
       "\n",
       "    .dataframe tbody tr th {\n",
       "        vertical-align: top;\n",
       "    }\n",
       "\n",
       "    .dataframe thead th {\n",
       "        text-align: right;\n",
       "    }\n",
       "</style>\n",
       "<table border=\"1\" class=\"dataframe\">\n",
       "  <thead>\n",
       "    <tr style=\"text-align: right;\">\n",
       "      <th></th>\n",
       "    </tr>\n",
       "  </thead>\n",
       "  <tbody>\n",
       "    <tr>\n",
       "      <th>0</th>\n",
       "    </tr>\n",
       "    <tr>\n",
       "      <th>1</th>\n",
       "    </tr>\n",
       "    <tr>\n",
       "      <th>2</th>\n",
       "    </tr>\n",
       "    <tr>\n",
       "      <th>3</th>\n",
       "    </tr>\n",
       "    <tr>\n",
       "      <th>4</th>\n",
       "    </tr>\n",
       "    <tr>\n",
       "      <th>...</th>\n",
       "    </tr>\n",
       "    <tr>\n",
       "      <th>284802</th>\n",
       "    </tr>\n",
       "    <tr>\n",
       "      <th>284803</th>\n",
       "    </tr>\n",
       "    <tr>\n",
       "      <th>284804</th>\n",
       "    </tr>\n",
       "    <tr>\n",
       "      <th>284805</th>\n",
       "    </tr>\n",
       "    <tr>\n",
       "      <th>284806</th>\n",
       "    </tr>\n",
       "  </tbody>\n",
       "</table>\n",
       "<p>284807 rows × 0 columns</p>\n",
       "</div>"
      ],
      "text/plain": [
       "Empty DataFrame\n",
       "Columns: []\n",
       "Index: [0, 1, 2, 3, 4, 5, 6, 7, 8, 9, 10, 11, 12, 13, 14, 15, 16, 17, 18, 19, 20, 21, 22, 23, 24, 25, 26, 27, 28, 29, 30, 31, 32, 33, 34, 35, 36, 37, 38, 39, 40, 41, 42, 43, 44, 45, 46, 47, 48, 49, 50, 51, 52, 53, 54, 55, 56, 57, 58, 59, 60, 61, 62, 63, 64, 65, 66, 67, 68, 69, 70, 71, 72, 73, 74, 75, 76, 77, 78, 79, 80, 81, 82, 83, 84, 85, 86, 87, 88, 89, 90, 91, 92, 93, 94, 95, 96, 97, 98, 99, ...]\n",
       "\n",
       "[284807 rows x 0 columns]"
      ]
     },
     "execution_count": 8,
     "metadata": {},
     "output_type": "execute_result"
    }
   ],
   "source": [
    "data.select_dtypes(\"object\")#no objects"
   ]
  },
  {
   "cell_type": "code",
   "execution_count": 9,
   "metadata": {},
   "outputs": [
    {
     "data": {
      "text/plain": [
       "Time      False\n",
       "V1        False\n",
       "V2        False\n",
       "V3        False\n",
       "V4        False\n",
       "V5        False\n",
       "V6        False\n",
       "V7        False\n",
       "V8        False\n",
       "V9        False\n",
       "V10       False\n",
       "V11       False\n",
       "V12       False\n",
       "V13       False\n",
       "V14       False\n",
       "V15       False\n",
       "V16       False\n",
       "V17       False\n",
       "V18       False\n",
       "V19       False\n",
       "V20       False\n",
       "V21       False\n",
       "V22       False\n",
       "V23       False\n",
       "V24       False\n",
       "V25       False\n",
       "V26       False\n",
       "V27       False\n",
       "V28       False\n",
       "Amount    False\n",
       "Class     False\n",
       "dtype: bool"
      ]
     },
     "execution_count": 9,
     "metadata": {},
     "output_type": "execute_result"
    }
   ],
   "source": [
    "data.isnull().any()"
   ]
  },
  {
   "cell_type": "code",
   "execution_count": 10,
   "metadata": {},
   "outputs": [
    {
     "name": "stdout",
     "output_type": "stream",
     "text": [
      "99.82725143693798\n"
     ]
    }
   ],
   "source": [
    "count=0\n",
    "nf=data[\"Class\"]\n",
    "for i in range(len(nf)):\n",
    "    if nf[i]==0:\n",
    "        count=count+1\n",
    "\n",
    "per=(count/len(nf))*100\n",
    "print(per)"
   ]
  },
  {
   "cell_type": "code",
   "execution_count": 11,
   "metadata": {},
   "outputs": [
    {
     "name": "stdout",
     "output_type": "stream",
     "text": [
      "0.1727485630620034\n"
     ]
    }
   ],
   "source": [
    "count=0\n",
    "f=data[\"Class\"]\n",
    "for i in range(len(nf)):\n",
    "    if f[i]==1:\n",
    "        count=count+1\n",
    "\n",
    "per=(count/len(f))*100\n",
    "print(per)"
   ]
  },
  {
   "cell_type": "code",
   "execution_count": 12,
   "metadata": {},
   "outputs": [
    {
     "data": {
      "text/plain": [
       "<matplotlib.axes._subplots.AxesSubplot at 0x17e050f9948>"
      ]
     },
     "execution_count": 12,
     "metadata": {},
     "output_type": "execute_result"
    },
    {
     "data": {
      "image/png": "[encoded data removed]",
      "text/plain": [
       "<Figure size 432x288 with 1 Axes>"
      ]
     },
     "metadata": {
      "needs_background": "light"
     },
     "output_type": "display_data"
    }
   ],
   "source": [
    "sns.barplot(x=f,y=nf,data=data)"
   ]
  },
  {
   "cell_type": "code",
   "execution_count": 13,
   "metadata": {},
   "outputs": [
    {
     "data": {
      "text/plain": [
       "[<matplotlib.lines.Line2D at 0x17e077725c8>]"
      ]
     },
     "execution_count": 13,
     "metadata": {},
     "output_type": "execute_result"
    },
    {
     "data": {
      "image/png": "[encoded data removed]",
      "text/plain": [
       "<Figure size 432x288 with 1 Axes>"
      ]
     },
     "metadata": {
      "needs_background": "light"
     },
     "output_type": "display_data"
    }
   ],
   "source": [
    "a=data[\"Amount\"]\n",
    "b=data[\"Time\"]\n",
    "plt.plot(a,b)"
   ]
  },
  {
   "cell_type": "code",
   "execution_count": 14,
   "metadata": {},
   "outputs": [
    {
     "data": {
      "text/plain": [
       "<matplotlib.axes._subplots.AxesSubplot at 0x17e077db2c8>"
      ]
     },
     "execution_count": 14,
     "metadata": {},
     "output_type": "execute_result"
    },
    {
     "data": {
      "image/png": "[encoded data removed]",
      "text/plain": [
       "<Figure size 720x720 with 1 Axes>"
      ]
     },
     "metadata": {
      "needs_background": "light"
     },
     "output_type": "display_data"
    }
   ],
   "source": [
    "plt.figure(figsize=(10,10))\n",
    "sns.distplot(data[\"Amount\"])"
   ]
  },
  {
   "cell_type": "code",
   "execution_count": 15,
   "metadata": {},
   "outputs": [
    {
     "data": {
      "image/png": "[encoded data removed]",
      "text/plain": [
       "<Figure size 432x288 with 1 Axes>"
      ]
     },
     "metadata": {
      "needs_background": "light"
     },
     "output_type": "display_data"
    }
   ],
   "source": [
    "plt.scatter(data[\"Amount\"],data[\"Time\"])\n",
    "plt.show()"
   ]
  },
  {
   "cell_type": "code",
   "execution_count": 17,
   "metadata": {},
   "outputs": [
    {
     "data": {
      "image/png": "[encoded data removed]",
      "text/plain": [
       "<Figure size 720x720 with 2 Axes>"
      ]
     },
     "metadata": {
      "needs_background": "light"
     },
     "output_type": "display_data"
    }
   ],
   "source": [
    "a=data.corr()\n",
    "b=a.index\n",
    "plt.figure(figsize=(10,10))\n",
    "s=sns.heatmap(data[b].corr())"
   ]
  },
  {
   "cell_type": "code",
   "execution_count": 18,
   "metadata": {},
   "outputs": [],
   "source": [
    "x=data.drop([\"Class\"],axis=1)\n",
    "y=data[\"Class\"]"
   ]
  },
  {
   "cell_type": "code",
   "execution_count": 19,
   "metadata": {},
   "outputs": [
    {
     "data": {
      "text/html": [
       "<div>\n",
       "<style scoped>\n",
       "    .dataframe tbody tr th:only-of-type {\n",
       "        vertical-align: middle;\n",
       "    }\n",
       "\n",
       "    .dataframe tbody tr th {\n",
       "        vertical-align: top;\n",
       "    }\n",
       "\n",
       "    .dataframe thead th {\n",
       "        text-align: right;\n",
       "    }\n",
       "</style>\n",
       "<table border=\"1\" class=\"dataframe\">\n",
       "  <thead>\n",
       "    <tr style=\"text-align: right;\">\n",
       "      <th></th>\n",
       "      <th>Time</th>\n",
       "      <th>V1</th>\n",
       "      <th>V2</th>\n",
       "      <th>V3</th>\n",
       "      <th>V4</th>\n",
       "      <th>V5</th>\n",
       "      <th>V6</th>\n",
       "      <th>V7</th>\n",
       "      <th>V8</th>\n",
       "      <th>V9</th>\n",
       "      <th>...</th>\n",
       "      <th>V20</th>\n",
       "      <th>V21</th>\n",
       "      <th>V22</th>\n",
       "      <th>V23</th>\n",
       "      <th>V24</th>\n",
       "      <th>V25</th>\n",
       "      <th>V26</th>\n",
       "      <th>V27</th>\n",
       "      <th>V28</th>\n",
       "      <th>Amount</th>\n",
       "    </tr>\n",
       "  </thead>\n",
       "  <tbody>\n",
       "    <tr>\n",
       "      <th>0</th>\n",
       "      <td>0.0</td>\n",
       "      <td>-1.359807</td>\n",
       "      <td>-0.072781</td>\n",
       "      <td>2.536347</td>\n",
       "      <td>1.378155</td>\n",
       "      <td>-0.338321</td>\n",
       "      <td>0.462388</td>\n",
       "      <td>0.239599</td>\n",
       "      <td>0.098698</td>\n",
       "      <td>0.363787</td>\n",
       "      <td>...</td>\n",
       "      <td>0.251412</td>\n",
       "      <td>-0.018307</td>\n",
       "      <td>0.277838</td>\n",
       "      <td>-0.110474</td>\n",
       "      <td>0.066928</td>\n",
       "      <td>0.128539</td>\n",
       "      <td>-0.189115</td>\n",
       "      <td>0.133558</td>\n",
       "      <td>-0.021053</td>\n",
       "      <td>149.62</td>\n",
       "    </tr>\n",
       "    <tr>\n",
       "      <th>1</th>\n",
       "      <td>0.0</td>\n",
       "      <td>1.191857</td>\n",
       "      <td>0.266151</td>\n",
       "      <td>0.166480</td>\n",
       "      <td>0.448154</td>\n",
       "      <td>0.060018</td>\n",
       "      <td>-0.082361</td>\n",
       "      <td>-0.078803</td>\n",
       "      <td>0.085102</td>\n",
       "      <td>-0.255425</td>\n",
       "      <td>...</td>\n",
       "      <td>-0.069083</td>\n",
       "      <td>-0.225775</td>\n",
       "      <td>-0.638672</td>\n",
       "      <td>0.101288</td>\n",
       "      <td>-0.339846</td>\n",
       "      <td>0.167170</td>\n",
       "      <td>0.125895</td>\n",
       "      <td>-0.008983</td>\n",
       "      <td>0.014724</td>\n",
       "      <td>2.69</td>\n",
       "    </tr>\n",
       "    <tr>\n",
       "      <th>2</th>\n",
       "      <td>1.0</td>\n",
       "      <td>-1.358354</td>\n",
       "      <td>-1.340163</td>\n",
       "      <td>1.773209</td>\n",
       "      <td>0.379780</td>\n",
       "      <td>-0.503198</td>\n",
       "      <td>1.800499</td>\n",
       "      <td>0.791461</td>\n",
       "      <td>0.247676</td>\n",
       "      <td>-1.514654</td>\n",
       "      <td>...</td>\n",
       "      <td>0.524980</td>\n",
       "      <td>0.247998</td>\n",
       "      <td>0.771679</td>\n",
       "      <td>0.909412</td>\n",
       "      <td>-0.689281</td>\n",
       "      <td>-0.327642</td>\n",
       "      <td>-0.139097</td>\n",
       "      <td>-0.055353</td>\n",
       "      <td>-0.059752</td>\n",
       "      <td>378.66</td>\n",
       "    </tr>\n",
       "    <tr>\n",
       "      <th>3</th>\n",
       "      <td>1.0</td>\n",
       "      <td>-0.966272</td>\n",
       "      <td>-0.185226</td>\n",
       "      <td>1.792993</td>\n",
       "      <td>-0.863291</td>\n",
       "      <td>-0.010309</td>\n",
       "      <td>1.247203</td>\n",
       "      <td>0.237609</td>\n",
       "      <td>0.377436</td>\n",
       "      <td>-1.387024</td>\n",
       "      <td>...</td>\n",
       "      <td>-0.208038</td>\n",
       "      <td>-0.108300</td>\n",
       "      <td>0.005274</td>\n",
       "      <td>-0.190321</td>\n",
       "      <td>-1.175575</td>\n",
       "      <td>0.647376</td>\n",
       "      <td>-0.221929</td>\n",
       "      <td>0.062723</td>\n",
       "      <td>0.061458</td>\n",
       "      <td>123.50</td>\n",
       "    </tr>\n",
       "    <tr>\n",
       "      <th>4</th>\n",
       "      <td>2.0</td>\n",
       "      <td>-1.158233</td>\n",
       "      <td>0.877737</td>\n",
       "      <td>1.548718</td>\n",
       "      <td>0.403034</td>\n",
       "      <td>-0.407193</td>\n",
       "      <td>0.095921</td>\n",
       "      <td>0.592941</td>\n",
       "      <td>-0.270533</td>\n",
       "      <td>0.817739</td>\n",
       "      <td>...</td>\n",
       "      <td>0.408542</td>\n",
       "      <td>-0.009431</td>\n",
       "      <td>0.798278</td>\n",
       "      <td>-0.137458</td>\n",
       "      <td>0.141267</td>\n",
       "      <td>-0.206010</td>\n",
       "      <td>0.502292</td>\n",
       "      <td>0.219422</td>\n",
       "      <td>0.215153</td>\n",
       "      <td>69.99</td>\n",
       "    </tr>\n",
       "    <tr>\n",
       "      <th>...</th>\n",
       "      <td>...</td>\n",
       "      <td>...</td>\n",
       "      <td>...</td>\n",
       "      <td>...</td>\n",
       "      <td>...</td>\n",
       "      <td>...</td>\n",
       "      <td>...</td>\n",
       "      <td>...</td>\n",
       "      <td>...</td>\n",
       "      <td>...</td>\n",
       "      <td>...</td>\n",
       "      <td>...</td>\n",
       "      <td>...</td>\n",
       "      <td>...</td>\n",
       "      <td>...</td>\n",
       "      <td>...</td>\n",
       "      <td>...</td>\n",
       "      <td>...</td>\n",
       "      <td>...</td>\n",
       "      <td>...</td>\n",
       "      <td>...</td>\n",
       "    </tr>\n",
       "    <tr>\n",
       "      <th>284802</th>\n",
       "      <td>172786.0</td>\n",
       "      <td>-11.881118</td>\n",
       "      <td>10.071785</td>\n",
       "      <td>-9.834783</td>\n",
       "      <td>-2.066656</td>\n",
       "      <td>-5.364473</td>\n",
       "      <td>-2.606837</td>\n",
       "      <td>-4.918215</td>\n",
       "      <td>7.305334</td>\n",
       "      <td>1.914428</td>\n",
       "      <td>...</td>\n",
       "      <td>1.475829</td>\n",
       "      <td>0.213454</td>\n",
       "      <td>0.111864</td>\n",
       "      <td>1.014480</td>\n",
       "      <td>-0.509348</td>\n",
       "      <td>1.436807</td>\n",
       "      <td>0.250034</td>\n",
       "      <td>0.943651</td>\n",
       "      <td>0.823731</td>\n",
       "      <td>0.77</td>\n",
       "    </tr>\n",
       "    <tr>\n",
       "      <th>284803</th>\n",
       "      <td>172787.0</td>\n",
       "      <td>-0.732789</td>\n",
       "      <td>-0.055080</td>\n",
       "      <td>2.035030</td>\n",
       "      <td>-0.738589</td>\n",
       "      <td>0.868229</td>\n",
       "      <td>1.058415</td>\n",
       "      <td>0.024330</td>\n",
       "      <td>0.294869</td>\n",
       "      <td>0.584800</td>\n",
       "      <td>...</td>\n",
       "      <td>0.059616</td>\n",
       "      <td>0.214205</td>\n",
       "      <td>0.924384</td>\n",
       "      <td>0.012463</td>\n",
       "      <td>-1.016226</td>\n",
       "      <td>-0.606624</td>\n",
       "      <td>-0.395255</td>\n",
       "      <td>0.068472</td>\n",
       "      <td>-0.053527</td>\n",
       "      <td>24.79</td>\n",
       "    </tr>\n",
       "    <tr>\n",
       "      <th>284804</th>\n",
       "      <td>172788.0</td>\n",
       "      <td>1.919565</td>\n",
       "      <td>-0.301254</td>\n",
       "      <td>-3.249640</td>\n",
       "      <td>-0.557828</td>\n",
       "      <td>2.630515</td>\n",
       "      <td>3.031260</td>\n",
       "      <td>-0.296827</td>\n",
       "      <td>0.708417</td>\n",
       "      <td>0.432454</td>\n",
       "      <td>...</td>\n",
       "      <td>0.001396</td>\n",
       "      <td>0.232045</td>\n",
       "      <td>0.578229</td>\n",
       "      <td>-0.037501</td>\n",
       "      <td>0.640134</td>\n",
       "      <td>0.265745</td>\n",
       "      <td>-0.087371</td>\n",
       "      <td>0.004455</td>\n",
       "      <td>-0.026561</td>\n",
       "      <td>67.88</td>\n",
       "    </tr>\n",
       "    <tr>\n",
       "      <th>284805</th>\n",
       "      <td>172788.0</td>\n",
       "      <td>-0.240440</td>\n",
       "      <td>0.530483</td>\n",
       "      <td>0.702510</td>\n",
       "      <td>0.689799</td>\n",
       "      <td>-0.377961</td>\n",
       "      <td>0.623708</td>\n",
       "      <td>-0.686180</td>\n",
       "      <td>0.679145</td>\n",
       "      <td>0.392087</td>\n",
       "      <td>...</td>\n",
       "      <td>0.127434</td>\n",
       "      <td>0.265245</td>\n",
       "      <td>0.800049</td>\n",
       "      <td>-0.163298</td>\n",
       "      <td>0.123205</td>\n",
       "      <td>-0.569159</td>\n",
       "      <td>0.546668</td>\n",
       "      <td>0.108821</td>\n",
       "      <td>0.104533</td>\n",
       "      <td>10.00</td>\n",
       "    </tr>\n",
       "    <tr>\n",
       "      <th>284806</th>\n",
       "      <td>172792.0</td>\n",
       "      <td>-0.533413</td>\n",
       "      <td>-0.189733</td>\n",
       "      <td>0.703337</td>\n",
       "      <td>-0.506271</td>\n",
       "      <td>-0.012546</td>\n",
       "      <td>-0.649617</td>\n",
       "      <td>1.577006</td>\n",
       "      <td>-0.414650</td>\n",
       "      <td>0.486180</td>\n",
       "      <td>...</td>\n",
       "      <td>0.382948</td>\n",
       "      <td>0.261057</td>\n",
       "      <td>0.643078</td>\n",
       "      <td>0.376777</td>\n",
       "      <td>0.008797</td>\n",
       "      <td>-0.473649</td>\n",
       "      <td>-0.818267</td>\n",
       "      <td>-0.002415</td>\n",
       "      <td>0.013649</td>\n",
       "      <td>217.00</td>\n",
       "    </tr>\n",
       "  </tbody>\n",
       "</table>\n",
       "<p>284807 rows × 30 columns</p>\n",
       "</div>"
      ],
      "text/plain": [
       "            Time         V1         V2        V3        V4        V5  \\\n",
       "0            0.0  -1.359807  -0.072781  2.536347  1.378155 -0.338321   \n",
       "1            0.0   1.191857   0.266151  0.166480  0.448154  0.060018   \n",
       "2            1.0  -1.358354  -1.340163  1.773209  0.379780 -0.503198   \n",
       "3            1.0  -0.966272  -0.185226  1.792993 -0.863291 -0.010309   \n",
       "4            2.0  -1.158233   0.877737  1.548718  0.403034 -0.407193   \n",
       "...          ...        ...        ...       ...       ...       ...   \n",
       "284802  172786.0 -11.881118  10.071785 -9.834783 -2.066656 -5.364473   \n",
       "284803  172787.0  -0.732789  -0.055080  2.035030 -0.738589  0.868229   \n",
       "284804  172788.0   1.919565  -0.301254 -3.249640 -0.557828  2.630515   \n",
       "284805  172788.0  -0.240440   0.530483  0.702510  0.689799 -0.377961   \n",
       "284806  172792.0  -0.533413  -0.189733  0.703337 -0.506271 -0.012546   \n",
       "\n",
       "              V6        V7        V8        V9  ...       V20       V21  \\\n",
       "0       0.462388  0.239599  0.098698  0.363787  ...  0.251412 -0.018307   \n",
       "1      -0.082361 -0.078803  0.085102 -0.255425  ... -0.069083 -0.225775   \n",
       "2       1.800499  0.791461  0.247676 -1.514654  ...  0.524980  0.247998   \n",
       "3       1.247203  0.237609  0.377436 -1.387024  ... -0.208038 -0.108300   \n",
       "4       0.095921  0.592941 -0.270533  0.817739  ...  0.408542 -0.009431   \n",
       "...          ...       ...       ...       ...  ...       ...       ...   \n",
       "284802 -2.606837 -4.918215  7.305334  1.914428  ...  1.475829  0.213454   \n",
       "284803  1.058415  0.024330  0.294869  0.584800  ...  0.059616  0.214205   \n",
       "284804  3.031260 -0.296827  0.708417  0.432454  ...  0.001396  0.232045   \n",
       "284805  0.623708 -0.686180  0.679145  0.392087  ...  0.127434  0.265245   \n",
       "284806 -0.649617  1.577006 -0.414650  0.486180  ...  0.382948  0.261057   \n",
       "\n",
       "             V22       V23       V24       V25       V26       V27       V28  \\\n",
       "0       0.277838 -0.110474  0.066928  0.128539 -0.189115  0.133558 -0.021053   \n",
       "1      -0.638672  0.101288 -0.339846  0.167170  0.125895 -0.008983  0.014724   \n",
       "2       0.771679  0.909412 -0.689281 -0.327642 -0.139097 -0.055353 -0.059752   \n",
       "3       0.005274 -0.190321 -1.175575  0.647376 -0.221929  0.062723  0.061458   \n",
       "4       0.798278 -0.137458  0.141267 -0.206010  0.502292  0.219422  0.215153   \n",
       "...          ...       ...       ...       ...       ...       ...       ...   \n",
       "284802  0.111864  1.014480 -0.509348  1.436807  0.250034  0.943651  0.823731   \n",
       "284803  0.924384  0.012463 -1.016226 -0.606624 -0.395255  0.068472 -0.053527   \n",
       "284804  0.578229 -0.037501  0.640134  0.265745 -0.087371  0.004455 -0.026561   \n",
       "284805  0.800049 -0.163298  0.123205 -0.569159  0.546668  0.108821  0.104533   \n",
       "284806  0.643078  0.376777  0.008797 -0.473649 -0.818267 -0.002415  0.013649   \n",
       "\n",
       "        Amount  \n",
       "0       149.62  \n",
       "1         2.69  \n",
       "2       378.66  \n",
       "3       123.50  \n",
       "4        69.99  \n",
       "...        ...  \n",
       "284802    0.77  \n",
       "284803   24.79  \n",
       "284804   67.88  \n",
       "284805   10.00  \n",
       "284806  217.00  \n",
       "\n",
       "[284807 rows x 30 columns]"
      ]
     },
     "execution_count": 19,
     "metadata": {},
     "output_type": "execute_result"
    }
   ],
   "source": [
    "x"
   ]
  },
  {
   "cell_type": "code",
   "execution_count": 20,
   "metadata": {},
   "outputs": [
    {
     "data": {
      "text/plain": [
       "0         0\n",
       "1         0\n",
       "2         0\n",
       "3         0\n",
       "4         0\n",
       "         ..\n",
       "284802    0\n",
       "284803    0\n",
       "284804    0\n",
       "284805    0\n",
       "284806    0\n",
       "Name: Class, Length: 284807, dtype: int64"
      ]
     },
     "execution_count": 20,
     "metadata": {},
     "output_type": "execute_result"
    }
   ],
   "source": [
    "y"
   ]
  },
  {
   "cell_type": "code",
   "execution_count": 21,
   "metadata": {},
   "outputs": [],
   "source": [
    "from sklearn.ensemble import ExtraTreesClassifier"
   ]
  },
  {
   "cell_type": "code",
   "execution_count": 22,
   "metadata": {},
   "outputs": [],
   "source": [
    "model=ExtraTreesClassifier()"
   ]
  },
  {
   "cell_type": "code",
   "execution_count": 23,
   "metadata": {},
   "outputs": [
    {
     "data": {
      "text/plain": [
       "array([0.01776111, 0.01194969, 0.01238388, 0.03430697, 0.03827812,\n",
       "       0.0132846 , 0.01375624, 0.02462219, 0.01344431, 0.02829386,\n",
       "       0.06898322, 0.07224742, 0.09162009, 0.0115186 , 0.12722243,\n",
       "       0.01224603, 0.07196875, 0.15001232, 0.04772916, 0.01388555,\n",
       "       0.01385406, 0.01560655, 0.01176206, 0.00911935, 0.01257834,\n",
       "       0.01093181, 0.01472581, 0.01216001, 0.01149389, 0.0122536 ])"
      ]
     },
     "execution_count": 23,
     "metadata": {},
     "output_type": "execute_result"
    }
   ],
   "source": [
    "model.fit(x,y)\n",
    "model.feature_importances_"
   ]
  },
  {
   "cell_type": "code",
   "execution_count": 24,
   "metadata": {},
   "outputs": [
    {
     "data": {
      "image/png": "[encoded data removed]",
      "text/plain": [
       "<Figure size 432x288 with 1 Axes>"
      ]
     },
     "metadata": {
      "needs_background": "light"
     },
     "output_type": "display_data"
    }
   ],
   "source": [
    "fet=pd.Series(model.feature_importances_)\n",
    "fet.nlargest(15).plot(kind='barh')\n",
    "plt.show()"
   ]
  },
  {
   "cell_type": "code",
   "execution_count": 25,
   "metadata": {},
   "outputs": [
    {
     "name": "stdout",
     "output_type": "stream",
     "text": [
      "            Time        V1        V2        V3        V4        V5        V6  \\\n",
      "266943  162547.0 -0.608674  0.265461 -0.671828 -1.737780  0.476494 -1.149065   \n",
      "59045    48668.0  1.186315 -0.907449  1.032778 -0.547520 -1.563387 -0.434951   \n",
      "60527    49367.0 -3.234359 -3.552772  1.464939  2.416094  3.570486 -2.499745   \n",
      "137627   82253.0  1.025261 -1.248304  0.180253 -0.586194 -1.255391 -0.636499   \n",
      "112035   72484.0  1.420408 -0.927403  0.289425 -1.522476 -1.107289 -0.382217   \n",
      "...          ...       ...       ...       ...       ...       ...       ...   \n",
      "207916  136886.0  2.040090 -0.116944 -1.793956  0.273961  0.420429 -0.640850   \n",
      "87574    61744.0 -1.610993  1.807188  0.330383  3.360888 -0.628808  0.822545   \n",
      "112638   72738.0  1.152883  0.052283  1.306601  1.330639 -0.874531 -0.168837   \n",
      "3315      2866.0  1.020962 -0.130374  0.550700  0.704957  0.080658  1.127452   \n",
      "29497    35497.0 -0.758413 -3.690013 -2.747876 -0.062003  1.041266  3.540411   \n",
      "\n",
      "              V7        V8        V9  ...       V20       V21       V22  \\\n",
      "266943  0.368201  0.165684 -1.706347  ... -0.687480 -0.238675 -0.517963   \n",
      "59045  -1.021010  0.043509 -0.409580  ...  0.167047  0.467202  1.187700   \n",
      "60527  -1.976042  0.411669 -0.665511  ...  1.423639  0.493628 -0.006418   \n",
      "137627 -0.450901 -0.145905 -0.537023  ...  0.466132  0.191897 -0.053536   \n",
      "112035 -0.809885 -0.034291 -2.370842  ... -0.314501 -0.557139 -1.317529   \n",
      "...          ...       ...       ...  ...       ...       ...       ...   \n",
      "207916  0.281544 -0.116628  0.539283  ... -0.339287  0.030725  0.204168   \n",
      "87574  -0.777547  0.997953 -0.683633  ... -0.160265  0.249819  0.873152   \n",
      "112638 -0.479806  0.024630  0.714156  ... -0.057369 -0.048886  0.121499   \n",
      "3315   -0.357620  0.448108  0.443852  ... -0.274931 -0.091997  0.060650   \n",
      "29497   1.060989  0.433019 -0.013231  ...  2.254853  0.521331 -0.989959   \n",
      "\n",
      "             V23       V24       V25       V26       V27       V28   Amount  \n",
      "266943 -0.299945 -0.525182  0.356842  0.068312 -0.303077 -0.156655     0.95  \n",
      "59045  -0.086627  0.442740  0.282526 -0.045886  0.041681  0.036386    74.97  \n",
      "60527   0.683076 -0.031317  0.657948 -0.036607 -0.156647  0.078054   116.66  \n",
      "137627 -0.220630 -0.121752  0.321485 -0.271312 -0.030492  0.051395   222.00  \n",
      "112035  0.295650 -0.055809 -0.010728 -0.631600  0.029961  0.013681    24.95  \n",
      "...          ...       ...       ...       ...       ...       ...      ...  \n",
      "207916  0.087149  0.690041  0.283557 -0.265557 -0.050597 -0.073773     1.00  \n",
      "87574   0.209211  0.041937 -1.375646  0.100066 -0.919990 -0.337473     0.76  \n",
      "112638 -0.019477  0.422627  0.455152 -0.412920  0.080021  0.040916     9.99  \n",
      "3315    0.181539 -0.607875  0.090819  0.378089  0.048625  0.001220     7.40  \n",
      "29497  -1.085163  1.151151  0.304215  0.988971 -0.298372  0.176572  1098.00  \n",
      "\n",
      "[256326 rows x 30 columns] 266943    0\n",
      "59045     0\n",
      "60527     0\n",
      "137627    0\n",
      "112035    0\n",
      "         ..\n",
      "207916    0\n",
      "87574     0\n",
      "112638    0\n",
      "3315      0\n",
      "29497     0\n",
      "Name: Class, Length: 256326, dtype: int64\n"
     ]
    }
   ],
   "source": [
    "x_train, x_test, y_train, y_test = sklearn.model_selection.train_test_split(x, y, test_size = 0.1)\n",
    "print(x_train,y_train)"
   ]
  },
  {
   "cell_type": "code",
   "execution_count": 26,
   "metadata": {},
   "outputs": [
    {
     "name": "stderr",
     "output_type": "stream",
     "text": [
      "C:\\Users\\Ranjith ch\\anaconda3\\lib\\site-packages\\sklearn\\linear_model\\_logistic.py:940: ConvergenceWarning: lbfgs failed to converge (status=1):\n",
      "STOP: TOTAL NO. of ITERATIONS REACHED LIMIT.\n",
      "\n",
      "Increase the number of iterations (max_iter) or scale the data as shown in:\n",
      "    https://scikit-learn.org/stable/modules/preprocessing.html\n",
      "Please also refer to the documentation for alternative solver options:\n",
      "    https://scikit-learn.org/stable/modules/linear_model.html#logistic-regression\n",
      "  extra_warning_msg=_LOGISTIC_SOLVER_CONVERGENCE_MSG)\n"
     ]
    }
   ],
   "source": [
    "cls=LogisticRegression()\n",
    "cls.fit(x_train,y_train)\n",
    "\n",
    "pre=cls.predict(x_test)"
   ]
  },
  {
   "cell_type": "code",
   "execution_count": 27,
   "metadata": {},
   "outputs": [
    {
     "data": {
      "text/plain": [
       "array([0, 0, 0, ..., 0, 0, 0], dtype=int64)"
      ]
     },
     "execution_count": 27,
     "metadata": {},
     "output_type": "execute_result"
    }
   ],
   "source": [
    "pre"
   ]
  },
  {
   "cell_type": "code",
   "execution_count": 28,
   "metadata": {},
   "outputs": [
    {
     "data": {
      "text/plain": [
       "95069     0\n",
       "173945    0\n",
       "64780     0\n",
       "245756    0\n",
       "111192    0\n",
       "         ..\n",
       "178034    0\n",
       "229814    0\n",
       "28009     0\n",
       "114222    0\n",
       "107552    0\n",
       "Name: Class, Length: 28481, dtype: int64"
      ]
     },
     "execution_count": 28,
     "metadata": {},
     "output_type": "execute_result"
    }
   ],
   "source": [
    "y_test"
   ]
  },
  {
   "cell_type": "code",
   "execution_count": 29,
   "metadata": {},
   "outputs": [
    {
     "name": "stdout",
     "output_type": "stream",
     "text": [
      "0.9990519995786665\n",
      "              precision    recall  f1-score   support\n",
      "\n",
      "           0       1.00      1.00      1.00     28430\n",
      "           1       0.74      0.73      0.73        51\n",
      "\n",
      "    accuracy                           1.00     28481\n",
      "   macro avg       0.87      0.86      0.87     28481\n",
      "weighted avg       1.00      1.00      1.00     28481\n",
      "\n"
     ]
    }
   ],
   "source": [
    "print(sklearn.metrics.accuracy_score(y_test,pre))\n",
    "print(sklearn.metrics.classification_report(y_test,pre))"
   ]
  },
  {
   "cell_type": "code",
   "execution_count": 40,
   "metadata": {},
   "outputs": [
    {
     "name": "stdout",
     "output_type": "stream",
     "text": [
      "[[28417    13]\n",
      " [   14    37]]\n"
     ]
    }
   ],
   "source": [
    "print(sklearn.metrics.confusion_matrix(y_test,pre))"
   ]
  },
  {
   "cell_type": "code",
   "execution_count": 41,
   "metadata": {},
   "outputs": [],
   "source": [
    "cls1=DecisionTreeClassifier()\n",
    "cls1.fit(x_train,y_train)\n",
    "\n",
    "pre1=cls1.predict(x_test)"
   ]
  },
  {
   "cell_type": "code",
   "execution_count": 42,
   "metadata": {},
   "outputs": [
    {
     "data": {
      "text/plain": [
       "array([0, 0, 0, ..., 0, 0, 0], dtype=int64)"
      ]
     },
     "execution_count": 42,
     "metadata": {},
     "output_type": "execute_result"
    }
   ],
   "source": [
    "pre1"
   ]
  },
  {
   "cell_type": "code",
   "execution_count": 43,
   "metadata": {},
   "outputs": [
    {
     "name": "stdout",
     "output_type": "stream",
     "text": [
      "0.9990519995786665\n",
      "              precision    recall  f1-score   support\n",
      "\n",
      "           0       1.00      1.00      1.00     28430\n",
      "           1       0.74      0.73      0.73        51\n",
      "\n",
      "    accuracy                           1.00     28481\n",
      "   macro avg       0.87      0.86      0.87     28481\n",
      "weighted avg       1.00      1.00      1.00     28481\n",
      "\n"
     ]
    }
   ],
   "source": [
    "print(sklearn.metrics.accuracy_score(y_test,pre))\n",
    "print(sklearn.metrics.classification_report(y_test,pre))"
   ]
  },
  {
   "cell_type": "code",
   "execution_count": 44,
   "metadata": {},
   "outputs": [],
   "source": [
    "from sklearn import tree"
   ]
  },
  {
   "cell_type": "code",
   "execution_count": 45,
   "metadata": {},
   "outputs": [
    {
     "data": {
      "text/plain": [
       "[Text(70.73869109970572, 212.91, 'X[17] <= -2.751\\ngini = 0.003\\nsamples = 256326\\nvalue = [255885, 441]'),\n",
       " Text(52.39695067264574, 203.85, 'X[12] <= -2.181\\ngini = 0.367\\nsamples = 397\\nvalue = [96, 301]'),\n",
       " Text(41.136860986547084, 194.79, 'X[14] <= -3.43\\ngini = 0.301\\nsamples = 368\\nvalue = [68, 300]'),\n",
       " Text(25.823139013452913, 185.73, 'X[26] <= -0.264\\ngini = 0.232\\nsamples = 328\\nvalue = [44, 284]'),\n",
       " Text(18.01614349775785, 176.67, 'X[27] <= 1.077\\ngini = 0.456\\nsamples = 91\\nvalue = [32, 59]'),\n",
       " Text(9.608609865470852, 167.60999999999999, 'X[5] <= -0.013\\ngini = 0.153\\nsamples = 60\\nvalue = [5, 55]'),\n",
       " Text(4.804304932735426, 158.55, 'X[19] <= 2.539\\ngini = 0.037\\nsamples = 53\\nvalue = [1, 52]'),\n",
       " Text(2.402152466367713, 149.49, 'gini = 0.0\\nsamples = 49\\nvalue = [0, 49]'),\n",
       " Text(7.206457399103138, 149.49, 'X[14] <= -8.242\\ngini = 0.375\\nsamples = 4\\nvalue = [1, 3]'),\n",
       " Text(4.804304932735426, 140.43, 'gini = 0.0\\nsamples = 3\\nvalue = [0, 3]'),\n",
       " Text(9.608609865470852, 140.43, 'gini = 0.0\\nsamples = 1\\nvalue = [1, 0]'),\n",
       " Text(14.412914798206277, 158.55, 'X[22] <= 0.468\\ngini = 0.49\\nsamples = 7\\nvalue = [4, 3]'),\n",
       " Text(12.010762331838565, 149.49, 'gini = 0.0\\nsamples = 3\\nvalue = [0, 3]'),\n",
       " Text(16.81506726457399, 149.49, 'gini = 0.0\\nsamples = 4\\nvalue = [4, 0]'),\n",
       " Text(26.423677130044844, 167.60999999999999, 'X[24] <= 0.036\\ngini = 0.225\\nsamples = 31\\nvalue = [27, 4]'),\n",
       " Text(24.02152466367713, 158.55, 'X[29] <= 94.99\\ngini = 0.069\\nsamples = 28\\nvalue = [27, 1]'),\n",
       " Text(21.619372197309417, 149.49, 'gini = 0.0\\nsamples = 27\\nvalue = [27, 0]'),\n",
       " Text(26.423677130044844, 149.49, 'gini = 0.0\\nsamples = 1\\nvalue = [0, 1]'),\n",
       " Text(28.825829596412554, 158.55, 'gini = 0.0\\nsamples = 3\\nvalue = [0, 3]'),\n",
       " Text(33.63013452914798, 176.67, 'X[3] <= -31.459\\ngini = 0.096\\nsamples = 237\\nvalue = [12, 225]'),\n",
       " Text(31.227982062780267, 167.60999999999999, 'gini = 0.0\\nsamples = 3\\nvalue = [3, 0]'),\n",
       " Text(36.0322869955157, 167.60999999999999, 'X[4] <= -0.304\\ngini = 0.074\\nsamples = 234\\nvalue = [9, 225]'),\n",
       " Text(33.63013452914798, 158.55, 'gini = 0.0\\nsamples = 1\\nvalue = [1, 0]'),\n",
       " Text(38.43443946188341, 158.55, 'X[4] <= 1.724\\ngini = 0.066\\nsamples = 233\\nvalue = [8, 225]'),\n",
       " Text(32.429058295964126, 149.49, 'X[27] <= 0.506\\ngini = 0.32\\nsamples = 20\\nvalue = [4, 16]'),\n",
       " Text(30.026905829596412, 140.43, 'gini = 0.0\\nsamples = 15\\nvalue = [0, 15]'),\n",
       " Text(34.831210762331835, 140.43, 'X[19] <= 0.539\\ngini = 0.32\\nsamples = 5\\nvalue = [4, 1]'),\n",
       " Text(32.429058295964126, 131.37, 'gini = 0.0\\nsamples = 1\\nvalue = [0, 1]'),\n",
       " Text(37.23336322869955, 131.37, 'gini = 0.0\\nsamples = 4\\nvalue = [4, 0]'),\n",
       " Text(44.43982062780269, 149.49, 'X[25] <= 1.072\\ngini = 0.037\\nsamples = 213\\nvalue = [4, 209]'),\n",
       " Text(42.03766816143498, 140.43, 'gini = 0.0\\nsamples = 185\\nvalue = [0, 185]'),\n",
       " Text(46.841973094170406, 140.43, 'X[25] <= 1.184\\ngini = 0.245\\nsamples = 28\\nvalue = [4, 24]'),\n",
       " Text(42.03766816143498, 131.37, 'X[23] <= -0.716\\ngini = 0.48\\nsamples = 5\\nvalue = [3, 2]'),\n",
       " Text(39.63551569506726, 122.30999999999999, 'gini = 0.0\\nsamples = 2\\nvalue = [0, 2]'),\n",
       " Text(44.43982062780269, 122.30999999999999, 'gini = 0.0\\nsamples = 3\\nvalue = [3, 0]'),\n",
       " Text(51.646278026905826, 131.37, 'X[6] <= -5.015\\ngini = 0.083\\nsamples = 23\\nvalue = [1, 22]'),\n",
       " Text(49.244125560538116, 122.30999999999999, 'gini = 0.0\\nsamples = 1\\nvalue = [1, 0]'),\n",
       " Text(54.04843049327354, 122.30999999999999, 'gini = 0.0\\nsamples = 22\\nvalue = [0, 22]'),\n",
       " Text(56.45058295964125, 185.73, 'X[8] <= -0.314\\ngini = 0.48\\nsamples = 40\\nvalue = [24, 16]'),\n",
       " Text(51.646278026905826, 176.67, 'X[9] <= 4.417\\ngini = 0.165\\nsamples = 11\\nvalue = [1, 10]'),\n",
       " Text(49.244125560538116, 167.60999999999999, 'gini = 0.0\\nsamples = 10\\nvalue = [0, 10]'),\n",
       " Text(54.04843049327354, 167.60999999999999, 'gini = 0.0\\nsamples = 1\\nvalue = [1, 0]'),\n",
       " Text(61.25488789237668, 176.67, 'X[23] <= 0.668\\ngini = 0.328\\nsamples = 29\\nvalue = [23, 6]'),\n",
       " Text(58.85273542600897, 167.60999999999999, 'X[19] <= 2.013\\ngini = 0.147\\nsamples = 25\\nvalue = [23, 2]'),\n",
       " Text(56.45058295964125, 158.55, 'X[24] <= -0.561\\ngini = 0.08\\nsamples = 24\\nvalue = [23, 1]'),\n",
       " Text(54.04843049327354, 149.49, 'X[18] <= -1.03\\ngini = 0.5\\nsamples = 2\\nvalue = [1, 1]'),\n",
       " Text(51.646278026905826, 140.43, 'gini = 0.0\\nsamples = 1\\nvalue = [1, 0]'),\n",
       " Text(56.45058295964125, 140.43, 'gini = 0.0\\nsamples = 1\\nvalue = [0, 1]'),\n",
       " Text(58.85273542600897, 149.49, 'gini = 0.0\\nsamples = 22\\nvalue = [22, 0]'),\n",
       " Text(61.25488789237668, 158.55, 'gini = 0.0\\nsamples = 1\\nvalue = [0, 1]'),\n",
       " Text(63.657040358744396, 167.60999999999999, 'gini = 0.0\\nsamples = 4\\nvalue = [0, 4]'),\n",
       " Text(63.657040358744396, 194.79, 'X[0] <= 155068.5\\ngini = 0.067\\nsamples = 29\\nvalue = [28, 1]'),\n",
       " Text(61.25488789237668, 185.73, 'gini = 0.0\\nsamples = 28\\nvalue = [28, 0]'),\n",
       " Text(66.0591928251121, 185.73, 'gini = 0.0\\nsamples = 1\\nvalue = [0, 1]'),\n",
       " Text(89.0804315267657, 203.85, 'X[14] <= -8.098\\ngini = 0.001\\nsamples = 255929\\nvalue = [255789, 140]'),\n",
       " Text(73.26565022421525, 194.79, 'X[12] <= -2.967\\ngini = 0.18\\nsamples = 30\\nvalue = [3, 27]'),\n",
       " Text(70.86349775784753, 185.73, 'gini = 0.0\\nsamples = 27\\nvalue = [0, 27]'),\n",
       " Text(75.66780269058296, 185.73, 'gini = 0.0\\nsamples = 3\\nvalue = [3, 0]'),\n",
       " Text(104.89521282931614, 194.79, 'X[14] <= -4.661\\ngini = 0.001\\nsamples = 255899\\nvalue = [255786, 113]'),\n",
       " Text(80.47210762331838, 185.73, 'X[10] <= -1.847\\ngini = 0.278\\nsamples = 222\\nvalue = [185, 37]'),\n",
       " Text(74.4667264573991, 176.67, 'X[16] <= 2.872\\ngini = 0.391\\nsamples = 45\\nvalue = [12, 33]'),\n",
       " Text(72.0645739910314, 167.60999999999999, 'X[24] <= -1.691\\ngini = 0.229\\nsamples = 38\\nvalue = [5, 33]'),\n",
       " Text(69.66242152466367, 158.55, 'gini = 0.0\\nsamples = 3\\nvalue = [3, 0]'),\n",
       " Text(74.4667264573991, 158.55, 'X[4] <= 1.079\\ngini = 0.108\\nsamples = 35\\nvalue = [2, 33]'),\n",
       " Text(72.0645739910314, 149.49, 'X[19] <= -0.344\\ngini = 0.444\\nsamples = 3\\nvalue = [2, 1]'),\n",
       " Text(69.66242152466367, 140.43, 'gini = 0.0\\nsamples = 1\\nvalue = [0, 1]'),\n",
       " Text(74.4667264573991, 140.43, 'gini = 0.0\\nsamples = 2\\nvalue = [2, 0]'),\n",
       " Text(76.86887892376681, 149.49, 'gini = 0.0\\nsamples = 32\\nvalue = [0, 32]'),\n",
       " Text(76.86887892376681, 167.60999999999999, 'gini = 0.0\\nsamples = 7\\nvalue = [7, 0]'),\n",
       " Text(86.47748878923767, 176.67, 'X[15] <= -1.322\\ngini = 0.044\\nsamples = 177\\nvalue = [173, 4]'),\n",
       " Text(84.07533632286996, 167.60999999999999, 'gini = 0.0\\nsamples = 1\\nvalue = [0, 1]'),\n",
       " Text(88.87964125560538, 167.60999999999999, 'X[21] <= -0.046\\ngini = 0.034\\nsamples = 176\\nvalue = [173, 3]'),\n",
       " Text(84.07533632286996, 158.55, 'X[19] <= 1.44\\ngini = 0.012\\nsamples = 168\\nvalue = [167, 1]'),\n",
       " Text(81.67318385650223, 149.49, 'gini = 0.0\\nsamples = 165\\nvalue = [165, 0]'),\n",
       " Text(86.47748878923767, 149.49, 'X[26] <= 0.173\\ngini = 0.444\\nsamples = 3\\nvalue = [2, 1]'),\n",
       " Text(84.07533632286996, 140.43, 'gini = 0.0\\nsamples = 1\\nvalue = [0, 1]'),\n",
       " Text(88.87964125560538, 140.43, 'gini = 0.0\\nsamples = 2\\nvalue = [2, 0]'),\n",
       " Text(93.68394618834081, 158.55, 'X[17] <= 3.388\\ngini = 0.375\\nsamples = 8\\nvalue = [6, 2]'),\n",
       " Text(91.28179372197309, 149.49, 'gini = 0.0\\nsamples = 6\\nvalue = [6, 0]'),\n",
       " Text(96.08609865470852, 149.49, 'gini = 0.0\\nsamples = 2\\nvalue = [0, 2]'),\n",
       " Text(129.3183180353139, 185.73, 'X[12] <= -4.98\\ngini = 0.001\\nsamples = 255677\\nvalue = [255601, 76]'),\n",
       " Text(98.48825112107623, 176.67, 'X[13] <= 0.51\\ngini = 0.444\\nsamples = 3\\nvalue = [1, 2]'),\n",
       " Text(96.08609865470852, 167.60999999999999, 'gini = 0.0\\nsamples = 1\\nvalue = [1, 0]'),\n",
       " Text(100.89040358744394, 167.60999999999999, 'gini = 0.0\\nsamples = 2\\nvalue = [0, 2]'),\n",
       " Text(160.14838494955157, 176.67, 'X[14] <= -4.393\\ngini = 0.001\\nsamples = 255674\\nvalue = [255600, 74]'),\n",
       " Text(105.69470852017938, 167.60999999999999, 'X[7] <= 0.289\\ngini = 0.084\\nsamples = 68\\nvalue = [65, 3]'),\n",
       " Text(103.29255605381165, 158.55, 'X[2] <= 3.462\\ngini = 0.5\\nsamples = 6\\nvalue = [3, 3]'),\n",
       " Text(100.89040358744394, 149.49, 'gini = 0.0\\nsamples = 3\\nvalue = [0, 3]'),\n",
       " Text(105.69470852017938, 149.49, 'gini = 0.0\\nsamples = 3\\nvalue = [3, 0]'),\n",
       " Text(108.09686098654709, 158.55, 'gini = 0.0\\nsamples = 62\\nvalue = [62, 0]'),\n",
       " Text(214.60206137892376, 167.60999999999999, 'X[4] <= 2.486\\ngini = 0.001\\nsamples = 255606\\nvalue = [255535, 71]'),\n",
       " Text(137.14320067264575, 158.55, 'X[23] <= -15.374\\ngini = 0.0\\nsamples = 242300\\nvalue = [242258, 42]'),\n",
       " Text(110.4990134529148, 149.49, 'X[21] <= 1.156\\ngini = 0.198\\nsamples = 9\\nvalue = [8, 1]'),\n",
       " Text(108.09686098654709, 140.43, 'gini = 0.0\\nsamples = 8\\nvalue = [8, 0]'),\n",
       " Text(112.9011659192825, 140.43, 'gini = 0.0\\nsamples = 1\\nvalue = [0, 1]'),\n",
       " Text(163.78738789237667, 149.49, 'X[20] <= -1.377\\ngini = 0.0\\nsamples = 242291\\nvalue = [242250, 41]'),\n",
       " Text(117.70547085201794, 140.43, 'X[20] <= -1.377\\ngini = 0.005\\nsamples = 2573\\nvalue = [2567, 6]'),\n",
       " Text(115.30331838565021, 131.37, 'X[17] <= 3.31\\ngini = 0.004\\nsamples = 2572\\nvalue = [2567, 5]'),\n",
       " Text(108.697399103139, 122.30999999999999, 'X[14] <= -3.639\\ngini = 0.003\\nsamples = 2569\\nvalue = [2565, 4]'),\n",
       " Text(102.69201793721973, 113.24999999999999, 'X[2] <= 1.773\\ngini = 0.142\\nsamples = 13\\nvalue = [12, 1]'),\n",
       " Text(100.28986547085202, 104.19, 'gini = 0.0\\nsamples = 12\\nvalue = [12, 0]'),\n",
       " Text(105.09417040358744, 104.19, 'gini = 0.0\\nsamples = 1\\nvalue = [0, 1]'),\n",
       " Text(114.7027802690583, 113.24999999999999, 'X[1] <= -1.84\\ngini = 0.002\\nsamples = 2556\\nvalue = [2553, 3]'),\n",
       " Text(109.89847533632287, 104.19, 'X[13] <= -1.879\\ngini = 0.001\\nsamples = 2429\\nvalue = [2428, 1]'),\n",
       " Text(107.49632286995515, 95.13, 'X[13] <= -1.913\\ngini = 0.05\\nsamples = 39\\nvalue = [38, 1]'),\n",
       " Text(105.09417040358744, 86.07, 'gini = 0.0\\nsamples = 38\\nvalue = [38, 0]'),\n",
       " Text(109.89847533632287, 86.07, 'gini = 0.0\\nsamples = 1\\nvalue = [0, 1]'),\n",
       " Text(112.30062780269058, 95.13, 'gini = 0.0\\nsamples = 2390\\nvalue = [2390, 0]'),\n",
       " Text(119.50708520179371, 104.19, 'X[1] <= -1.833\\ngini = 0.031\\nsamples = 127\\nvalue = [125, 2]'),\n",
       " Text(117.104932735426, 95.13, 'gini = 0.0\\nsamples = 1\\nvalue = [0, 1]'),\n",
       " Text(121.90923766816144, 95.13, 'X[8] <= -0.328\\ngini = 0.016\\nsamples = 126\\nvalue = [125, 1]'),\n",
       " Text(119.50708520179371, 86.07, 'gini = 0.0\\nsamples = 121\\nvalue = [121, 0]'),\n",
       " Text(124.31139013452915, 86.07, 'X[25] <= -0.034\\ngini = 0.32\\nsamples = 5\\nvalue = [4, 1]'),\n",
       " Text(121.90923766816144, 77.00999999999999, 'gini = 0.0\\nsamples = 4\\nvalue = [4, 0]'),\n",
       " Text(126.71354260089686, 77.00999999999999, 'gini = 0.0\\nsamples = 1\\nvalue = [0, 1]'),\n",
       " Text(121.90923766816144, 122.30999999999999, 'X[0] <= 70537.0\\ngini = 0.444\\nsamples = 3\\nvalue = [2, 1]'),\n",
       " Text(119.50708520179371, 113.24999999999999, 'gini = 0.0\\nsamples = 2\\nvalue = [2, 0]'),\n",
       " Text(124.31139013452915, 113.24999999999999, 'gini = 0.0\\nsamples = 1\\nvalue = [0, 1]'),\n",
       " Text(120.10762331838565, 131.37, 'gini = 0.0\\nsamples = 1\\nvalue = [0, 1]'),\n",
       " Text(209.86930493273542, 140.43, 'X[7] <= 2.784\\ngini = 0.0\\nsamples = 239718\\nvalue = [239683, 35]'),\n",
       " Text(188.53143497757847, 131.37, 'X[14] <= -0.819\\ngini = 0.0\\nsamples = 238129\\nvalue = [238098, 31]'),\n",
       " Text(166.4241255605381, 122.30999999999999, 'X[14] <= -0.819\\ngini = 0.001\\nsamples = 31198\\nvalue = [31180, 18]'),\n",
       " Text(164.0219730941704, 113.24999999999999, 'X[14] <= -0.82\\ngini = 0.001\\nsamples = 31197\\nvalue = [31180, 17]'),\n",
       " Text(154.48843049327354, 104.19, 'X[23] <= 1.313\\ngini = 0.001\\nsamples = 31176\\nvalue = [31160, 16]'),\n",
       " Text(142.62780269058297, 95.13, 'X[17] <= -1.731\\ngini = 0.001\\nsamples = 30994\\nvalue = [30980, 14]'),\n",
       " Text(133.92, 86.07, 'X[6] <= -1.507\\ngini = 0.027\\nsamples = 72\\nvalue = [71, 1]'),\n",
       " Text(131.51784753363228, 77.00999999999999, 'gini = 0.0\\nsamples = 1\\nvalue = [0, 1]'),\n",
       " Text(136.3221524663677, 77.00999999999999, 'gini = 0.0\\nsamples = 71\\nvalue = [71, 0]'),\n",
       " Text(151.33560538116592, 86.07, 'X[19] <= -2.191\\ngini = 0.001\\nsamples = 30922\\nvalue = [30909, 13]'),\n",
       " Text(141.12645739910315, 77.00999999999999, 'X[19] <= -2.194\\ngini = 0.013\\nsamples = 148\\nvalue = [147, 1]'),\n",
       " Text(138.72430493273544, 67.94999999999999, 'gini = 0.0\\nsamples = 147\\nvalue = [147, 0]'),\n",
       " Text(143.52860986547086, 67.94999999999999, 'gini = 0.0\\nsamples = 1\\nvalue = [0, 1]'),\n",
       " Text(161.5447533632287, 77.00999999999999, 'X[29] <= 98.005\\ngini = 0.001\\nsamples = 30774\\nvalue = [30762, 12]'),\n",
       " Text(148.33291479820628, 67.94999999999999, 'X[15] <= 1.263\\ngini = 0.0\\nsamples = 25261\\nvalue = [25256, 5]'),\n",
       " Text(139.92538116591928, 58.889999999999986, 'X[1] <= 2.092\\ngini = 0.0\\nsamples = 23874\\nvalue = [23871, 3]'),\n",
       " Text(135.12107623318386, 49.829999999999984, 'X[11] <= 2.279\\ngini = 0.0\\nsamples = 22414\\nvalue = [22413, 1]'),\n",
       " Text(132.71892376681615, 40.76999999999998, 'gini = 0.0\\nsamples = 21986\\nvalue = [21986, 0]'),\n",
       " Text(137.52322869955157, 40.76999999999998, 'X[11] <= 2.283\\ngini = 0.005\\nsamples = 428\\nvalue = [427, 1]'),\n",
       " Text(135.12107623318386, 31.70999999999998, 'gini = 0.0\\nsamples = 1\\nvalue = [0, 1]'),\n",
       " Text(139.92538116591928, 31.70999999999998, 'gini = 0.0\\nsamples = 427\\nvalue = [427, 0]'),\n",
       " Text(144.7296860986547, 49.829999999999984, 'X[1] <= 2.092\\ngini = 0.003\\nsamples = 1460\\nvalue = [1458, 2]'),\n",
       " Text(142.327533632287, 40.76999999999998, 'gini = 0.0\\nsamples = 1\\nvalue = [0, 1]'),\n",
       " Text(147.1318385650224, 40.76999999999998, 'X[7] <= 1.122\\ngini = 0.001\\nsamples = 1459\\nvalue = [1458, 1]'),\n",
       " Text(144.7296860986547, 31.70999999999998, 'gini = 0.0\\nsamples = 1450\\nvalue = [1450, 0]'),\n",
       " Text(149.53399103139014, 31.70999999999998, 'X[26] <= -0.206\\ngini = 0.198\\nsamples = 9\\nvalue = [8, 1]'),\n",
       " Text(147.1318385650224, 22.649999999999977, 'gini = 0.0\\nsamples = 1\\nvalue = [0, 1]'),\n",
       " Text(151.93614349775785, 22.649999999999977, 'gini = 0.0\\nsamples = 8\\nvalue = [8, 0]'),\n",
       " Text(156.74044843049327, 58.889999999999986, 'X[15] <= 1.263\\ngini = 0.003\\nsamples = 1387\\nvalue = [1385, 2]'),\n",
       " Text(154.33829596412556, 49.829999999999984, 'gini = 0.0\\nsamples = 1\\nvalue = [0, 1]'),\n",
       " Text(159.14260089686098, 49.829999999999984, 'X[11] <= -0.666\\ngini = 0.001\\nsamples = 1386\\nvalue = [1385, 1]'),\n",
       " Text(156.74044843049327, 40.76999999999998, 'X[11] <= -0.669\\ngini = 0.015\\nsamples = 134\\nvalue = [133, 1]'),\n",
       " Text(154.33829596412556, 31.70999999999998, 'gini = 0.0\\nsamples = 133\\nvalue = [133, 0]'),\n",
       " Text(159.14260089686098, 31.70999999999998, 'gini = 0.0\\nsamples = 1\\nvalue = [0, 1]'),\n",
       " Text(161.5447533632287, 40.76999999999998, 'gini = 0.0\\nsamples = 1252\\nvalue = [1252, 0]'),\n",
       " Text(174.7565919282511, 67.94999999999999, 'X[29] <= 98.02\\ngini = 0.003\\nsamples = 5513\\nvalue = [5506, 7]'),\n",
       " Text(172.3544394618834, 58.889999999999986, 'gini = 0.0\\nsamples = 1\\nvalue = [0, 1]'),\n",
       " Text(177.15874439461882, 58.889999999999986, 'X[14] <= -1.816\\ngini = 0.002\\nsamples = 5512\\nvalue = [5506, 6]'),\n",
       " Text(168.75121076233182, 49.829999999999984, 'X[14] <= -1.817\\ngini = 0.013\\nsamples = 599\\nvalue = [595, 4]'),\n",
       " Text(166.3490582959641, 40.76999999999998, 'X[9] <= 0.798\\ngini = 0.01\\nsamples = 598\\nvalue = [595, 3]'),\n",
       " Text(163.9469058295964, 31.70999999999998, 'gini = 0.0\\nsamples = 434\\nvalue = [434, 0]'),\n",
       " Text(168.75121076233182, 31.70999999999998, 'X[9] <= 0.803\\ngini = 0.036\\nsamples = 164\\nvalue = [161, 3]'),\n",
       " Text(166.3490582959641, 22.649999999999977, 'gini = 0.0\\nsamples = 1\\nvalue = [0, 1]'),\n",
       " Text(171.15336322869956, 22.649999999999977, 'X[10] <= -1.382\\ngini = 0.024\\nsamples = 163\\nvalue = [161, 2]'),\n",
       " Text(168.75121076233182, 13.589999999999975, 'X[10] <= -1.491\\ngini = 0.346\\nsamples = 9\\nvalue = [7, 2]'),\n",
       " Text(166.3490582959641, 4.529999999999973, 'gini = 0.0\\nsamples = 7\\nvalue = [7, 0]'),\n",
       " Text(171.15336322869956, 4.529999999999973, 'gini = 0.0\\nsamples = 2\\nvalue = [0, 2]'),\n",
       " Text(173.55551569506727, 13.589999999999975, 'gini = 0.0\\nsamples = 154\\nvalue = [154, 0]'),\n",
       " Text(171.15336322869956, 40.76999999999998, 'gini = 0.0\\nsamples = 1\\nvalue = [0, 1]'),\n",
       " Text(185.56627802690582, 49.829999999999984, 'X[11] <= 1.499\\ngini = 0.001\\nsamples = 4913\\nvalue = [4911, 2]'),\n",
       " Text(180.7619730941704, 40.76999999999998, 'X[22] <= -1.014\\ngini = 0.0\\nsamples = 4808\\nvalue = [4807, 1]'),\n",
       " Text(178.3598206278027, 31.70999999999998, 'X[22] <= -1.016\\ngini = 0.019\\nsamples = 104\\nvalue = [103, 1]'),\n",
       " Text(175.95766816143498, 22.649999999999977, 'gini = 0.0\\nsamples = 103\\nvalue = [103, 0]'),\n",
       " Text(180.7619730941704, 22.649999999999977, 'gini = 0.0\\nsamples = 1\\nvalue = [0, 1]'),\n",
       " Text(183.1641255605381, 31.70999999999998, 'gini = 0.0\\nsamples = 4704\\nvalue = [4704, 0]'),\n",
       " Text(190.37058295964124, 40.76999999999998, 'X[11] <= 1.502\\ngini = 0.019\\nsamples = 105\\nvalue = [104, 1]'),\n",
       " Text(187.96843049327353, 31.70999999999998, 'gini = 0.0\\nsamples = 1\\nvalue = [0, 1]'),\n",
       " Text(192.77273542600898, 31.70999999999998, 'gini = 0.0\\nsamples = 104\\nvalue = [104, 0]'),\n",
       " Text(166.3490582959641, 95.13, 'X[0] <= 871.5\\ngini = 0.022\\nsamples = 182\\nvalue = [180, 2]'),\n",
       " Text(163.9469058295964, 86.07, 'gini = 0.0\\nsamples = 1\\nvalue = [0, 1]'),\n",
       " Text(168.75121076233182, 86.07, 'X[23] <= 1.32\\ngini = 0.011\\nsamples = 181\\nvalue = [180, 1]'),\n",
       " Text(166.3490582959641, 77.00999999999999, 'gini = 0.0\\nsamples = 1\\nvalue = [0, 1]'),\n",
       " Text(171.15336322869956, 77.00999999999999, 'gini = 0.0\\nsamples = 180\\nvalue = [180, 0]'),\n",
       " Text(173.55551569506727, 104.19, 'X[11] <= 1.458\\ngini = 0.091\\nsamples = 21\\nvalue = [20, 1]'),\n",
       " Text(171.15336322869956, 95.13, 'gini = 0.0\\nsamples = 20\\nvalue = [20, 0]'),\n",
       " Text(175.95766816143498, 95.13, 'gini = 0.0\\nsamples = 1\\nvalue = [0, 1]'),\n",
       " Text(168.82627802690584, 113.24999999999999, 'gini = 0.0\\nsamples = 1\\nvalue = [0, 1]'),\n",
       " Text(210.63874439461884, 122.30999999999999, 'X[22] <= 2.151\\ngini = 0.0\\nsamples = 206931\\nvalue = [206918, 13]'),\n",
       " Text(202.08107623318386, 113.24999999999999, 'X[19] <= -2.548\\ngini = 0.0\\nsamples = 206694\\nvalue = [206682, 12]'),\n",
       " Text(192.17219730941704, 104.19, 'X[19] <= -2.549\\ngini = 0.004\\nsamples = 494\\nvalue = [493, 1]'),\n",
       " Text(189.77004484304933, 95.13, 'gini = 0.0\\nsamples = 493\\nvalue = [493, 0]'),\n",
       " Text(194.57434977578475, 95.13, 'gini = 0.0\\nsamples = 1\\nvalue = [0, 1]'),\n",
       " Text(211.98995515695066, 104.19, 'X[20] <= 0.634\\ngini = 0.0\\nsamples = 206200\\nvalue = [206189, 11]'),\n",
       " Text(199.37865470852017, 95.13, 'X[14] <= -0.472\\ngini = 0.0\\nsamples = 194040\\nvalue = [194034, 6]'),\n",
       " Text(194.57434977578475, 86.07, 'X[14] <= -0.472\\ngini = 0.0\\nsamples = 22172\\nvalue = [22167, 5]'),\n",
       " Text(192.17219730941704, 77.00999999999999, 'X[16] <= -2.151\\ngini = 0.0\\nsamples = 22171\\nvalue = [22167, 4]'),\n",
       " Text(185.56627802690582, 67.94999999999999, 'X[16] <= -2.157\\ngini = 0.009\\nsamples = 220\\nvalue = [219, 1]'),\n",
       " Text(183.1641255605381, 58.889999999999986, 'gini = 0.0\\nsamples = 219\\nvalue = [219, 0]'),\n",
       " Text(187.96843049327353, 58.889999999999986, 'gini = 0.0\\nsamples = 1\\nvalue = [0, 1]'),\n",
       " Text(198.77811659192824, 67.94999999999999, 'X[10] <= -1.481\\ngini = 0.0\\nsamples = 21951\\nvalue = [21948, 3]'),\n",
       " Text(192.77273542600898, 58.889999999999986, 'X[10] <= -1.481\\ngini = 0.005\\nsamples = 430\\nvalue = [429, 1]'),\n",
       " Text(190.37058295964124, 49.829999999999984, 'gini = 0.0\\nsamples = 429\\nvalue = [429, 0]'),\n",
       " Text(195.1748878923767, 49.829999999999984, 'gini = 0.0\\nsamples = 1\\nvalue = [0, 1]'),\n",
       " Text(204.78349775784753, 58.889999999999986, 'X[6] <= -1.347\\ngini = 0.0\\nsamples = 21521\\nvalue = [21519, 2]'),\n",
       " Text(199.9791928251121, 49.829999999999984, 'X[6] <= -1.348\\ngini = 0.002\\nsamples = 901\\nvalue = [900, 1]'),\n",
       " Text(197.5770403587444, 40.76999999999998, 'gini = 0.0\\nsamples = 900\\nvalue = [900, 0]'),\n",
       " Text(202.38134529147982, 40.76999999999998, 'gini = 0.0\\nsamples = 1\\nvalue = [0, 1]'),\n",
       " Text(209.58780269058295, 49.829999999999984, 'X[11] <= 1.2\\ngini = 0.0\\nsamples = 20620\\nvalue = [20619, 1]'),\n",
       " Text(207.18565022421524, 40.76999999999998, 'gini = 0.0\\nsamples = 19054\\nvalue = [19054, 0]'),\n",
       " Text(211.98995515695066, 40.76999999999998, 'X[11] <= 1.2\\ngini = 0.001\\nsamples = 1566\\nvalue = [1565, 1]'),\n",
       " Text(209.58780269058295, 31.70999999999998, 'gini = 0.0\\nsamples = 1\\nvalue = [0, 1]'),\n",
       " Text(214.3921076233184, 31.70999999999998, 'gini = 0.0\\nsamples = 1565\\nvalue = [1565, 0]'),\n",
       " Text(196.97650224215246, 77.00999999999999, 'gini = 0.0\\nsamples = 1\\nvalue = [0, 1]'),\n",
       " Text(204.1829596412556, 86.07, 'X[13] <= 1.575\\ngini = 0.0\\nsamples = 171868\\nvalue = [171867, 1]'),\n",
       " Text(201.78080717488788, 77.00999999999999, 'gini = 0.0\\nsamples = 162520\\nvalue = [162520, 0]'),\n",
       " Text(206.5851121076233, 77.00999999999999, 'X[13] <= 1.575\\ngini = 0.0\\nsamples = 9348\\nvalue = [9347, 1]'),\n",
       " Text(204.1829596412556, 67.94999999999999, 'gini = 0.0\\nsamples = 1\\nvalue = [0, 1]'),\n",
       " Text(208.98726457399104, 67.94999999999999, 'gini = 0.0\\nsamples = 9347\\nvalue = [9347, 0]'),\n",
       " Text(224.60125560538117, 95.13, 'X[20] <= 0.634\\ngini = 0.001\\nsamples = 12160\\nvalue = [12155, 5]'),\n",
       " Text(222.19910313901346, 86.07, 'gini = 0.0\\nsamples = 1\\nvalue = [0, 1]'),\n",
       " Text(227.00340807174888, 86.07, 'X[15] <= 2.206\\ngini = 0.001\\nsamples = 12159\\nvalue = [12155, 4]'),\n",
       " Text(220.39748878923766, 77.00999999999999, 'X[26] <= -1.123\\ngini = 0.0\\nsamples = 12083\\nvalue = [12080, 3]'),\n",
       " Text(214.3921076233184, 67.94999999999999, 'X[26] <= -1.126\\ngini = 0.024\\nsamples = 81\\nvalue = [80, 1]'),\n",
       " Text(211.98995515695066, 58.889999999999986, 'gini = 0.0\\nsamples = 80\\nvalue = [80, 0]'),\n",
       " Text(216.7942600896861, 58.889999999999986, 'gini = 0.0\\nsamples = 1\\nvalue = [0, 1]'),\n",
       " Text(226.40286995515694, 67.94999999999999, 'X[19] <= 2.502\\ngini = 0.0\\nsamples = 12002\\nvalue = [12000, 2]'),\n",
       " Text(221.59856502242152, 58.889999999999986, 'X[13] <= -2.135\\ngini = 0.0\\nsamples = 11872\\nvalue = [11871, 1]'),\n",
       " Text(219.19641255605382, 49.829999999999984, 'X[13] <= -2.137\\ngini = 0.011\\nsamples = 178\\nvalue = [177, 1]'),\n",
       " Text(216.7942600896861, 40.76999999999998, 'gini = 0.0\\nsamples = 177\\nvalue = [177, 0]'),\n",
       " Text(221.59856502242152, 40.76999999999998, 'gini = 0.0\\nsamples = 1\\nvalue = [0, 1]'),\n",
       " Text(224.00071748878923, 49.829999999999984, 'gini = 0.0\\nsamples = 11694\\nvalue = [11694, 0]'),\n",
       " Text(231.20717488789236, 58.889999999999986, 'X[19] <= 2.504\\ngini = 0.015\\nsamples = 130\\nvalue = [129, 1]'),\n",
       " Text(228.80502242152465, 49.829999999999984, 'gini = 0.0\\nsamples = 1\\nvalue = [0, 1]'),\n",
       " Text(233.60932735426007, 49.829999999999984, 'gini = 0.0\\nsamples = 129\\nvalue = [129, 0]'),\n",
       " Text(233.60932735426007, 77.00999999999999, 'X[15] <= 2.207\\ngini = 0.026\\nsamples = 76\\nvalue = [75, 1]'),\n",
       " Text(231.20717488789236, 67.94999999999999, 'gini = 0.0\\nsamples = 1\\nvalue = [0, 1]'),\n",
       " Text(236.01147982062778, 67.94999999999999, 'gini = 0.0\\nsamples = 75\\nvalue = [75, 0]'),\n",
       " Text(219.19641255605382, 113.24999999999999, 'X[22] <= 2.154\\ngini = 0.008\\nsamples = 237\\nvalue = [236, 1]'),\n",
       " Text(216.7942600896861, 104.19, 'gini = 0.0\\nsamples = 1\\nvalue = [0, 1]'),\n",
       " Text(221.59856502242152, 104.19, 'gini = 0.0\\nsamples = 236\\nvalue = [236, 0]'),\n",
       " Text(231.20717488789236, 131.37, 'X[7] <= 2.786\\ngini = 0.005\\nsamples = 1589\\nvalue = [1585, 4]'),\n",
       " Text(228.80502242152465, 122.30999999999999, 'gini = 0.0\\nsamples = 1\\nvalue = [0, 1]'),\n",
       " Text(233.60932735426007, 122.30999999999999, 'X[13] <= -1.53\\ngini = 0.004\\nsamples = 1588\\nvalue = [1585, 3]'),\n",
       " Text(228.80502242152465, 113.24999999999999, 'X[13] <= -1.537\\ngini = 0.049\\nsamples = 80\\nvalue = [78, 2]'),\n",
       " Text(226.40286995515694, 104.19, 'gini = 0.0\\nsamples = 78\\nvalue = [78, 0]'),\n",
       " Text(231.20717488789236, 104.19, 'gini = 0.0\\nsamples = 2\\nvalue = [0, 2]'),\n",
       " Text(238.41363228699552, 113.24999999999999, 'X[1] <= -0.759\\ngini = 0.001\\nsamples = 1508\\nvalue = [1507, 1]'),\n",
       " Text(236.01147982062778, 104.19, 'gini = 0.0\\nsamples = 1362\\nvalue = [1362, 0]'),\n",
       " Text(240.81578475336323, 104.19, 'X[1] <= -0.754\\ngini = 0.014\\nsamples = 146\\nvalue = [145, 1]'),\n",
       " Text(238.41363228699552, 95.13, 'gini = 0.0\\nsamples = 1\\nvalue = [0, 1]'),\n",
       " Text(243.21793721973094, 95.13, 'gini = 0.0\\nsamples = 145\\nvalue = [145, 0]'),\n",
       " Text(292.0609220852018, 158.55, 'X[4] <= 2.486\\ngini = 0.004\\nsamples = 13306\\nvalue = [13277, 29]'),\n",
       " Text(289.65876961883407, 149.49, 'gini = 0.0\\nsamples = 1\\nvalue = [0, 1]'),\n",
       " Text(294.4630745515695, 149.49, 'X[17] <= 1.521\\ngini = 0.004\\nsamples = 13305\\nvalue = [13277, 28]'),\n",
       " Text(274.5444450672646, 140.43, 'X[26] <= 2.736\\ngini = 0.003\\nsamples = 12716\\nvalue = [12700, 16]'),\n",
       " Text(264.41505605381167, 131.37, 'X[17] <= -2.025\\ngini = 0.002\\nsamples = 12708\\nvalue = [12693, 15]'),\n",
       " Text(251.36273542600895, 122.30999999999999, 'X[17] <= -2.055\\ngini = 0.105\\nsamples = 18\\nvalue = [17, 1]'),\n",
       " Text(248.96058295964124, 113.24999999999999, 'gini = 0.0\\nsamples = 17\\nvalue = [17, 0]'),\n",
       " Text(253.76488789237666, 113.24999999999999, 'gini = 0.0\\nsamples = 1\\nvalue = [0, 1]'),\n",
       " Text(277.4673766816143, 122.30999999999999, 'X[4] <= 5.153\\ngini = 0.002\\nsamples = 12690\\nvalue = [12676, 14]'),\n",
       " Text(258.5691928251121, 113.24999999999999, 'X[14] <= -2.303\\ngini = 0.002\\nsamples = 12408\\nvalue = [12397, 11]'),\n",
       " Text(250.42439461883407, 104.19, 'X[14] <= -2.318\\ngini = 0.028\\nsamples = 139\\nvalue = [137, 2]'),\n",
       " Text(248.02224215246636, 95.13, 'X[15] <= -1.947\\ngini = 0.014\\nsamples = 138\\nvalue = [137, 1]'),\n",
       " Text(245.62008968609865, 86.07, 'X[26] <= 0.169\\ngini = 0.278\\nsamples = 6\\nvalue = [5, 1]'),\n",
       " Text(243.21793721973094, 77.00999999999999, 'gini = 0.0\\nsamples = 5\\nvalue = [5, 0]'),\n",
       " Text(248.02224215246636, 77.00999999999999, 'gini = 0.0\\nsamples = 1\\nvalue = [0, 1]'),\n",
       " Text(250.42439461883407, 86.07, 'gini = 0.0\\nsamples = 132\\nvalue = [132, 0]'),\n",
       " Text(252.82654708520178, 95.13, 'gini = 0.0\\nsamples = 1\\nvalue = [0, 1]'),\n",
       " Text(266.71399103139015, 104.19, 'X[27] <= -2.508\\ngini = 0.001\\nsamples = 12269\\nvalue = [12260, 9]'),\n",
       " Text(257.63085201793723, 95.13, 'X[27] <= -2.54\\ngini = 0.044\\nsamples = 44\\nvalue = [43, 1]'),\n",
       " Text(255.2286995515695, 86.07, 'gini = 0.0\\nsamples = 43\\nvalue = [43, 0]'),\n",
       " Text(260.0330044843049, 86.07, 'gini = 0.0\\nsamples = 1\\nvalue = [0, 1]'),\n",
       " Text(275.797130044843, 95.13, 'X[29] <= 2.48\\ngini = 0.001\\nsamples = 12225\\nvalue = [12217, 8]'),\n",
       " Text(264.83730941704033, 86.07, 'X[29] <= 2.465\\ngini = 0.007\\nsamples = 1804\\nvalue = [1798, 6]'),\n",
       " Text(257.3305829596413, 77.00999999999999, 'X[21] <= -1.032\\ngini = 0.006\\nsamples = 1801\\nvalue = [1796, 5]'),\n",
       " Text(249.52358744394618, 67.94999999999999, 'X[21] <= -1.053\\ngini = 0.042\\nsamples = 94\\nvalue = [92, 2]'),\n",
       " Text(247.12143497757847, 58.889999999999986, 'X[12] <= -0.857\\ngini = 0.021\\nsamples = 93\\nvalue = [92, 1]'),\n",
       " Text(244.71928251121076, 49.829999999999984, 'X[20] <= -1.648\\ngini = 0.444\\nsamples = 3\\nvalue = [2, 1]'),\n",
       " Text(242.31713004484305, 40.76999999999998, 'gini = 0.0\\nsamples = 2\\nvalue = [2, 0]'),\n",
       " Text(247.12143497757847, 40.76999999999998, 'gini = 0.0\\nsamples = 1\\nvalue = [0, 1]'),\n",
       " Text(249.52358744394618, 49.829999999999984, 'gini = 0.0\\nsamples = 90\\nvalue = [90, 0]'),\n",
       " Text(251.9257399103139, 58.889999999999986, 'gini = 0.0\\nsamples = 1\\nvalue = [0, 1]'),\n",
       " Text(265.13757847533634, 67.94999999999999, 'X[7] <= 1.295\\ngini = 0.004\\nsamples = 1707\\nvalue = [1704, 3]'),\n",
       " Text(259.13219730941705, 58.889999999999986, 'X[12] <= 1.236\\ngini = 0.002\\nsamples = 1681\\nvalue = [1679, 2]'),\n",
       " Text(254.3278923766816, 49.829999999999984, 'X[12] <= -2.777\\ngini = 0.001\\nsamples = 1637\\nvalue = [1636, 1]'),\n",
       " Text(251.9257399103139, 40.76999999999998, 'X[12] <= -2.798\\ngini = 0.036\\nsamples = 55\\nvalue = [54, 1]'),\n",
       " Text(249.52358744394618, 31.70999999999998, 'gini = 0.0\\nsamples = 54\\nvalue = [54, 0]'),\n",
       " Text(254.3278923766816, 31.70999999999998, 'gini = 0.0\\nsamples = 1\\nvalue = [0, 1]'),\n",
       " Text(256.7300448430493, 40.76999999999998, 'gini = 0.0\\nsamples = 1582\\nvalue = [1582, 0]'),\n",
       " Text(263.93650224215247, 49.829999999999984, 'X[12] <= 1.238\\ngini = 0.044\\nsamples = 44\\nvalue = [43, 1]'),\n",
       " Text(261.53434977578473, 40.76999999999998, 'gini = 0.0\\nsamples = 1\\nvalue = [0, 1]'),\n",
       " Text(266.33865470852015, 40.76999999999998, 'gini = 0.0\\nsamples = 43\\nvalue = [43, 0]'),\n",
       " Text(271.1429596412556, 58.889999999999986, 'X[7] <= 1.296\\ngini = 0.074\\nsamples = 26\\nvalue = [25, 1]'),\n",
       " Text(268.7408071748879, 49.829999999999984, 'gini = 0.0\\nsamples = 1\\nvalue = [0, 1]'),\n",
       " Text(273.5451121076233, 49.829999999999984, 'gini = 0.0\\nsamples = 25\\nvalue = [25, 0]'),\n",
       " Text(272.34403587443944, 77.00999999999999, 'X[27] <= -0.254\\ngini = 0.444\\nsamples = 3\\nvalue = [2, 1]'),\n",
       " Text(269.94188340807176, 67.94999999999999, 'gini = 0.0\\nsamples = 1\\nvalue = [0, 1]'),\n",
       " Text(274.7461883408072, 67.94999999999999, 'gini = 0.0\\nsamples = 2\\nvalue = [2, 0]'),\n",
       " Text(286.75695067264576, 86.07, 'X[15] <= -2.718\\ngini = 0.0\\nsamples = 10421\\nvalue = [10419, 2]'),\n",
       " Text(281.9526457399103, 77.00999999999999, 'X[15] <= -2.72\\ngini = 0.009\\nsamples = 211\\nvalue = [210, 1]'),\n",
       " Text(279.5504932735426, 67.94999999999999, 'gini = 0.0\\nsamples = 210\\nvalue = [210, 0]'),\n",
       " Text(284.354798206278, 67.94999999999999, 'gini = 0.0\\nsamples = 1\\nvalue = [0, 1]'),\n",
       " Text(291.5612556053812, 77.00999999999999, 'X[7] <= 1.438\\ngini = 0.0\\nsamples = 10210\\nvalue = [10209, 1]'),\n",
       " Text(289.15910313901344, 67.94999999999999, 'gini = 0.0\\nsamples = 9558\\nvalue = [9558, 0]'),\n",
       " Text(293.96340807174886, 67.94999999999999, 'X[7] <= 1.439\\ngini = 0.003\\nsamples = 652\\nvalue = [651, 1]'),\n",
       " Text(291.5612556053812, 58.889999999999986, 'gini = 0.0\\nsamples = 1\\nvalue = [0, 1]'),\n",
       " Text(296.3655605381166, 58.889999999999986, 'gini = 0.0\\nsamples = 651\\nvalue = [651, 0]'),\n",
       " Text(296.3655605381166, 113.24999999999999, 'X[4] <= 5.154\\ngini = 0.021\\nsamples = 282\\nvalue = [279, 3]'),\n",
       " Text(293.96340807174886, 104.19, 'gini = 0.0\\nsamples = 1\\nvalue = [0, 1]'),\n",
       " Text(298.7677130044843, 104.19, 'X[29] <= 0.03\\ngini = 0.014\\nsamples = 281\\nvalue = [279, 2]'),\n",
       " Text(293.96340807174886, 95.13, 'X[0] <= 155536.5\\ngini = 0.278\\nsamples = 6\\nvalue = [5, 1]'),\n",
       " Text(291.5612556053812, 86.07, 'gini = 0.0\\nsamples = 5\\nvalue = [5, 0]'),\n",
       " Text(296.3655605381166, 86.07, 'gini = 0.0\\nsamples = 1\\nvalue = [0, 1]'),\n",
       " Text(303.5720179372197, 95.13, 'X[1] <= -1.18\\ngini = 0.007\\nsamples = 275\\nvalue = [274, 1]'),\n",
       " Text(301.169865470852, 86.07, 'gini = 0.0\\nsamples = 268\\nvalue = [268, 0]'),\n",
       " Text(305.97417040358744, 86.07, 'X[11] <= 0.425\\ngini = 0.245\\nsamples = 7\\nvalue = [6, 1]'),\n",
       " Text(303.5720179372197, 77.00999999999999, 'gini = 0.0\\nsamples = 6\\nvalue = [6, 0]'),\n",
       " Text(308.3763228699552, 77.00999999999999, 'gini = 0.0\\nsamples = 1\\nvalue = [0, 1]'),\n",
       " Text(284.6738340807175, 131.37, 'X[26] <= 2.748\\ngini = 0.219\\nsamples = 8\\nvalue = [7, 1]'),\n",
       " Text(282.27168161434975, 122.30999999999999, 'gini = 0.0\\nsamples = 1\\nvalue = [0, 1]'),\n",
       " Text(287.0759865470852, 122.30999999999999, 'gini = 0.0\\nsamples = 7\\nvalue = [7, 0]'),\n",
       " Text(314.3817040358744, 140.43, 'X[17] <= 1.523\\ngini = 0.04\\nsamples = 589\\nvalue = [577, 12]'),\n",
       " Text(311.9795515695067, 131.37, 'gini = 0.0\\nsamples = 1\\nvalue = [0, 1]'),\n",
       " Text(316.78385650224214, 131.37, 'X[1] <= 0.833\\ngini = 0.037\\nsamples = 588\\nvalue = [577, 11]'),\n",
       " Text(308.3763228699552, 122.30999999999999, 'X[20] <= 1.252\\ngini = 0.008\\nsamples = 474\\nvalue = [472, 2]'),\n",
       " Text(305.97417040358744, 113.24999999999999, 'gini = 0.0\\nsamples = 440\\nvalue = [440, 0]'),\n",
       " Text(310.77847533632286, 113.24999999999999, 'X[24] <= 0.474\\ngini = 0.111\\nsamples = 34\\nvalue = [32, 2]'),\n",
       " Text(308.3763228699552, 104.19, 'gini = 0.0\\nsamples = 32\\nvalue = [32, 0]'),\n",
       " Text(313.1806278026906, 104.19, 'gini = 0.0\\nsamples = 2\\nvalue = [0, 2]'),\n",
       " Text(325.1913901345291, 122.30999999999999, 'X[28] <= 0.059\\ngini = 0.145\\nsamples = 114\\nvalue = [105, 9]'),\n",
       " Text(320.3870852017937, 113.24999999999999, 'X[22] <= 0.715\\ngini = 0.073\\nsamples = 105\\nvalue = [101, 4]'),\n",
       " Text(317.984932735426, 104.19, 'X[19] <= -0.989\\ngini = 0.056\\nsamples = 104\\nvalue = [101, 3]'),\n",
       " Text(313.1806278026906, 95.13, 'X[0] <= 155471.0\\ngini = 0.038\\nsamples = 102\\nvalue = [100, 2]'),\n",
       " Text(310.77847533632286, 86.07, 'gini = 0.0\\nsamples = 91\\nvalue = [91, 0]'),\n",
       " Text(315.5827802690583, 86.07, 'X[11] <= 1.204\\ngini = 0.298\\nsamples = 11\\nvalue = [9, 2]'),\n",
       " Text(313.1806278026906, 77.00999999999999, 'gini = 0.0\\nsamples = 9\\nvalue = [9, 0]'),\n",
       " Text(317.984932735426, 77.00999999999999, 'gini = 0.0\\nsamples = 2\\nvalue = [0, 2]'),\n",
       " Text(322.78923766816143, 95.13, 'X[5] <= 1.192\\ngini = 0.5\\nsamples = 2\\nvalue = [1, 1]'),\n",
       " Text(320.3870852017937, 86.07, 'gini = 0.0\\nsamples = 1\\nvalue = [0, 1]'),\n",
       " Text(325.1913901345291, 86.07, 'gini = 0.0\\nsamples = 1\\nvalue = [1, 0]'),\n",
       " Text(322.78923766816143, 104.19, 'gini = 0.0\\nsamples = 1\\nvalue = [0, 1]'),\n",
       " Text(329.9956950672646, 113.24999999999999, 'X[14] <= -2.387\\ngini = 0.494\\nsamples = 9\\nvalue = [4, 5]'),\n",
       " Text(327.59354260089685, 104.19, 'gini = 0.0\\nsamples = 4\\nvalue = [4, 0]'),\n",
       " Text(332.3978475336323, 104.19, 'gini = 0.0\\nsamples = 5\\nvalue = [0, 5]')]"
      ]
     },
     "execution_count": 45,
     "metadata": {},
     "output_type": "execute_result"
    },
    {
     "data": {
      "image/png": "[encoded data removed]",
      "text/plain": [
       "<Figure size 432x288 with 1 Axes>"
      ]
     },
     "metadata": {
      "needs_background": "light"
     },
     "output_type": "display_data"
    }
   ],
   "source": [
    "tree.plot_tree(cls1,filled=True)"
   ]
  },
  {
   "cell_type": "code",
   "execution_count": 46,
   "metadata": {},
   "outputs": [
    {
     "data": {
      "text/plain": [
       "<matplotlib.collections.PathCollection at 0x17e09b50848>"
      ]
     },
     "execution_count": 46,
     "metadata": {},
     "output_type": "execute_result"
    },
    {
     "data": {
      "image/png": "[encoded data removed]",
      "text/plain": [
       "<Figure size 432x288 with 1 Axes>"
      ]
     },
     "metadata": {
      "needs_background": "light"
     },
     "output_type": "display_data"
    }
   ],
   "source": [
    "plt.scatter(y_test,pre)"
   ]
  },
  {
   "cell_type": "code",
   "execution_count": 47,
   "metadata": {},
   "outputs": [
    {
     "data": {
      "text/plain": [
       "<BarContainer object of 28481 artists>"
      ]
     },
     "execution_count": 47,
     "metadata": {},
     "output_type": "execute_result"
    },
    {
     "data": {
      "image/png": "[encoded data removed]",
      "text/plain": [
       "<Figure size 432x288 with 1 Axes>"
      ]
     },
     "metadata": {
      "needs_background": "light"
     },
     "output_type": "display_data"
    }
   ],
   "source": [
    "plt.barh(y_test,pre)"
   ]
  },
  {
   "cell_type": "code",
   "execution_count": null,
   "metadata": {},
   "outputs": [],
   "source": []
  }
 ],
 "metadata": {
  "kernelspec": {
   "display_name": "Python 3",
   "language": "python",
   "name": "python3"
  },
  "language_info": {
   "codemirror_mode": {
    "name": "ipython",
    "version": 3
   },
   "file_extension": ".py",
   "mimetype": "text/x-python",
   "name": "python",
   "nbconvert_exporter": "python",
   "pygments_lexer": "ipython3",
   "version": "3.7.6"
  }
 },
 "nbformat": 4,
 "nbformat_minor": 4
}
